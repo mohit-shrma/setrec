{
 "cells": [
  {
   "cell_type": "code",
   "execution_count": 1,
   "metadata": {
    "collapsed": true
   },
   "outputs": [],
   "source": [
    "import numpy as np\n",
    "import matplotlib.pyplot as plt\n",
    "%matplotlib inline"
   ]
  },
  {
   "cell_type": "code",
   "execution_count": 247,
   "metadata": {
    "collapsed": true
   },
   "outputs": [],
   "source": [
    "def getSetRatings(setFName):\n",
    "    uSetRatings = {}\n",
    "    nSets = 0\n",
    "    with open(setFName, 'r') as f:\n",
    "        for line in f:\n",
    "            cols   = line.strip().split(',')\n",
    "            user   = int(cols[0])\n",
    "            uItems = map(int, cols[1].split('-'))\n",
    "            rating = float(cols[2])\n",
    "            if user not in uSetRatings:\n",
    "                uSetRatings[user] = []\n",
    "            uSetRatings[user].append((uItems, rating))\n",
    "            nSets+= 1\n",
    "    print 'No. of sets: ', nSets\n",
    "    return uSetRatings\n",
    "\n",
    "def getUIRatings(ratFName):\n",
    "    uiRatings = {}\n",
    "    uinnz = 0\n",
    "    with open(ratFName, 'r') as f:\n",
    "        for line in f:\n",
    "            cols = line.strip().split(',')\n",
    "            user = int(cols[0])\n",
    "            item = int(cols[1])\n",
    "            rating = float(cols[2])\n",
    "            if user not in uiRatings:\n",
    "                uiRatings[user] = {}\n",
    "            uiRatings[user][item] = rating\n",
    "            uinnz += 1\n",
    "    print 'No. of u-i ratings: ', uinnz\n",
    "    return uiRatings\n",
    "\n",
    "import datetime\n",
    "def getUITstamp(ratFName):\n",
    "    uiTstamp = {}\n",
    "    with open(ratFName, 'r') as f:\n",
    "        for line in f:\n",
    "            cols = line.strip().split(',')\n",
    "            user = int(cols[0])\n",
    "            item = int(cols[1])\n",
    "            rating = float(cols[2])\n",
    "            tstampStr = cols[3]\n",
    "            tstamp = datetime.datetime.strptime(tstampStr, \"%Y-%m-%d %H:%M:%S\")\n",
    "            if user not in uiTstamp:\n",
    "                uiTstamp[user] = {}\n",
    "            uiTstamp[user][item] = tstamp\n",
    "    return uiTstamp\n"
   ]
  },
  {
   "cell_type": "code",
   "execution_count": 248,
   "metadata": {
    "collapsed": false
   },
   "outputs": [
    {
     "name": "stdout",
     "output_type": "stream",
     "text": [
      "No. of sets:  29516\n",
      "No. of u-i ratings:  510032\n"
     ]
    }
   ],
   "source": [
    "uSetRatings = getSetRatings('db_filt_set_ratings.csv')\n",
    "uiRatings = getUIRatings('db_ui_ratings.csv')\n",
    "uiTstamp = getUITstamp('db_ui_ratings.csv')"
   ]
  },
  {
   "cell_type": "code",
   "execution_count": 143,
   "metadata": {
    "collapsed": false
   },
   "outputs": [],
   "source": [
    "def avgSetRat(user, items):\n",
    "    rat = 0.0\n",
    "    for item in items:\n",
    "        rat += uiRatings[user][item]\n",
    "    rat = rat/len(items)\n",
    "    return rat\n",
    "\n",
    "UNDER_RATED_SET   = 1\n",
    "OVER_RATED_SET    = 2\n",
    "NEITHER_RATED_SET = 0\n",
    "def isSetUnderOverRat(user, items, rating):\n",
    "    avgRat = avgSetRat(user, items)\n",
    "    if avgRat >= rating + 0.5:\n",
    "        #under rat\n",
    "        return UNDER_RATED_SET\n",
    "    elif avgRat <= rating - 0.5:\n",
    "        #over rat\n",
    "        return OVER_RATED_SET\n",
    "    else:\n",
    "        return NEITHER_RATED_SET\n",
    "    \n",
    "def hexbin(x, y, xlabel, ylabel, label='count'):\n",
    "    plt.hexbin(x, y, gridsize=10, cmap=plt.cm.YlOrRd_r, bins=None)\n",
    "    plt.axis([0.5, 5, 0.5, 5])\n",
    "    cb = plt.colorbar()\n",
    "    cb.set_label(label)\n",
    "    plt.xlabel(xlabel)\n",
    "    plt.ylabel(ylabel)\n",
    "\n",
    "def rmse(l1, l2):\n",
    "    a1 = np.asarray(l1)\n",
    "    a2 = np.asarray(l2)\n",
    "    n = len(l1)\n",
    "    return np.sqrt(np.sum(np.square(a1 - a2))/n)\n",
    "\n",
    "def getUserSetsAvgRatings():\n",
    "    origSetRatings = []\n",
    "    origAvgSetRatings = []\n",
    "    underRatedCount = 0\n",
    "    overRatedCount = 0\n",
    "\n",
    "    nUnderRatedSets = 0\n",
    "    seUnderRatedSets = 0\n",
    "\n",
    "    nOverRatedSets = 0\n",
    "    seOverRatedSets = 0\n",
    "\n",
    "    nNeitherSets = 0\n",
    "    seNeitherSets = 0\n",
    "    \n",
    "    for user, itemsSetsNRat in uSetRatings.iteritems():\n",
    "        if user not in uiRatings:\n",
    "            print 'no ratings for ', user\n",
    "            continue\n",
    "        userUnderRatedCount[user]  = 0\n",
    "        userOverRatedCount[user] = 0\n",
    "        for itemSetNRat in itemsSetsNRat:\n",
    "            \n",
    "            items  = itemSetNRat[0]\n",
    "            setRat = itemSetNRat[1]\n",
    "            avgRat = avgSetRat(user, items)\n",
    "            \n",
    "            for item in items:\n",
    "                if item not in itemUnderRatedCount:\n",
    "                    itemUnderRatedCount[item] = 0\n",
    "                if item not in itemOverRatedCount:\n",
    "                    itemOverRatedCount[item] = 0\n",
    "                if item not in itemSetCount:\n",
    "                    itemSetCount[item] = 0\n",
    "                if item not in uiRatings[user]:\n",
    "                    print 'Item: ', item, ' not found for user: ', user\n",
    "                itemSetCount[item] += 1\n",
    "            \n",
    "            setRatingType = isSetUnderOverRat(user, items, setRat)\n",
    "            \n",
    "            if setRatingType == UNDER_RATED_SET:\n",
    "                nUnderRatedSets += 1\n",
    "                seUnderRatedSets += (avgRat - setRat)*(avgRat - setRat)\n",
    "                if user not in uUnderRatedSetRatings:\n",
    "                    uUnderRatedSetRatings[user] = []\n",
    "                uUnderRatedSetRatings[user].append(itemSetNRat)\n",
    "                underRatedCount += 1\n",
    "                userUnderRatedCount[user] += 1\n",
    "                for item in items:\n",
    "                    itemUnderRatedCount[item] += 1\n",
    "            elif setRatingType == OVER_RATED_SET:\n",
    "                nOverRatedSets += 1\n",
    "                seOverRatedSets += (avgRat - setRat)*(avgRat - setRat)\n",
    "                if user not in uOverRatedSetRatings:\n",
    "                    uOverRatedSetRatings[user] = []\n",
    "                uOverRatedSetRatings[user].append(itemSetNRat)\n",
    "                overRatedCount += 1\n",
    "                userOverRatedCount[user] += 1\n",
    "                for item in items:\n",
    "                    itemOverRatedCount[item] += 1\n",
    "            else:\n",
    "                nNeitherSets += 1\n",
    "                seNeitherSets += (avgRat - setRat)*(avgRat - setRat)\n",
    "                if user not in uNeitherRatedSetRatings:\n",
    "                    uNeitherRatedSetRatings[user] = []\n",
    "                uNeitherRatedSetRatings[user].append(itemSetNRat)\n",
    "                \n",
    "            origSetRatings.append(setRat)\n",
    "            origAvgSetRatings.append(avgRat)\n",
    "    hexbin(origSetRatings, origAvgSetRatings, 'set ratings', 'average ratings')\n",
    "    print 'rmse: ', rmse(origSetRatings, origAvgSetRatings)\n",
    "    \n",
    "    print 'nUnderRatedSets: ', nUnderRatedSets, ' underRatedRMSE: ', np.sqrt(seUnderRatedSets/nUnderRatedSets)\n",
    "    print 'nOverRatedSets: ', nOverRatedSets, ' overRatedRMSE: ', np.sqrt(seOverRatedSets/nOverRatedSets)\n",
    "    print 'nNeitherSets: ', nNeitherSets, ' neitherSetsRMSE: ', np.sqrt(seNeitherSets/nNeitherSets)\n",
    "    \n",
    "    print 'underRatedCount: ', underRatedCount, len(uUnderRatedSetRatings)\n",
    "    print 'overRatedCount: ', overRatedCount, len(uOverRatedSetRatings)\n",
    "    return (origSetRatings, origAvgSetRatings)"
   ]
  },
  {
   "cell_type": "code",
   "execution_count": 144,
   "metadata": {
    "collapsed": false
   },
   "outputs": [
    {
     "name": "stdout",
     "output_type": "stream",
     "text": [
      "rmse:  0.597961482605\n",
      "nUnderRatedSets:  6571  underRatedRMSE:  0.962637906724\n",
      "nOverRatedSets:  5220  overRatedRMSE:  0.810604996142\n",
      "nNeitherSets:  17725  neitherSetsRMSE:  0.241593207388\n",
      "underRatedCount:  6571 731\n",
      "overRatedCount:  5220 706\n"
     ]
    },
    {
     "data": {
      "image/png": "[encoded data removed]",
      "text/plain": [
       "<matplotlib.figure.Figure at 0x7fbb1c134490>"
      ]
     },
     "metadata": {},
     "output_type": "display_data"
    }
   ],
   "source": [
    "userUnderRatedCount = {}\n",
    "userOverRatedCount  = {}\n",
    "itemUnderRatedCount = {}\n",
    "itemOverRatedCount  = {}\n",
    "itemSetCount        = {}\n",
    "\n",
    "uUnderRatedSetRatings   = {}\n",
    "uOverRatedSetRatings    = {}\n",
    "uNeitherRatedSetRatings = {}\n",
    "(origSetRatingsA, origAvgSetRatings) = getUserSetsAvgRatings()"
   ]
  },
  {
   "cell_type": "code",
   "execution_count": 17,
   "metadata": {
    "collapsed": false
   },
   "outputs": [],
   "source": [
    "def getSetDevFrmAvg(user, items):\n",
    "    avgRat = avgSetRat(user, items)\n",
    "    sqDev = 0\n",
    "    for item in items:\n",
    "        diffFrmAvg = uiRatings[user][item] - avgRat\n",
    "        sqDev += diffFrmAvg*diffFrmAvg\n",
    "    sqDev = sqDev/len(items)\n",
    "    return np.sqrt(sqDev)\n",
    "\n",
    "def getSetDev(userSetRatings):\n",
    "    nSets = 0\n",
    "    avgSetDev = 0\n",
    "    for user, setRatings in userSetRatings.iteritems():\n",
    "        for setRating in setRatings:\n",
    "            items = setRating[0]\n",
    "            rating = setRating[1]\n",
    "            setDev = getSetDevFrmAvg(user, items)\n",
    "            avgSetDev += setDev\n",
    "            nSets += 1\n",
    "    avgSetDev = avgSetDev/nSets\n",
    "    return avgSetDev\n",
    "\n",
    "def getSetDevs(userSetRatings):\n",
    "    nSets = 0\n",
    "    setDevs = []\n",
    "    for user, setRatings in userSetRatings.iteritems():\n",
    "        for setRating in setRatings:\n",
    "            items = setRating[0]\n",
    "            rating = setRating[1]\n",
    "            setDev = getSetDevFrmAvg(user, items)\n",
    "            setDevs.append(setDev)\n",
    "            nSets += 1\n",
    "    return setDevs"
   ]
  },
  {
   "cell_type": "code",
   "execution_count": 145,
   "metadata": {
    "collapsed": false
   },
   "outputs": [
    {
     "name": "stdout",
     "output_type": "stream",
     "text": [
      "underRated setDev: 0.731148429721\n",
      "overRated setDev:  0.827304409635\n",
      "neither setDev:  0.682317600459\n"
     ]
    }
   ],
   "source": [
    "print 'underRated setDev:', getSetDev(uUnderRatedSetRatings)\n",
    "print 'overRated setDev: ', getSetDev(uOverRatedSetRatings)\n",
    "print 'neither setDev: ', getSetDev(uNeitherRatedSetRatings)\n"
   ]
  },
  {
   "cell_type": "code",
   "execution_count": 172,
   "metadata": {
    "collapsed": false
   },
   "outputs": [
    {
     "name": "stdout",
     "output_type": "stream",
     "text": [
      "nSets:  29516.0 RMSE:  0.597961482605\n",
      "underRated(%):  0.22262501694 RMSE:  0.962637906724\n",
      "overRated(%):  0.176853232145 RMSE:  0.810604996142\n",
      "neitherRated(%):  0.600521750915 RMSE:  0.241593207388\n",
      " \n",
      "diverse sets:  13308.0 RMSE:  0.666776178261\n",
      "diverse underRated(%):  0.230763450556 RMSE:  1.0331260318\n",
      "diverse overRated(%):  0.224226029456 RMSE:  0.860102010909\n",
      "diverse neitherRated(%):  0.545010519988 RMSE:  0.243851738164\n",
      " \n",
      "not diverse sets:  16208.0 RMSE:  0.534880927049\n",
      "not diverse underRated(%):  0.215942744324 RMSE:  0.896234981942\n",
      "not diverse overRated(%):  0.137956564659 RMSE:  0.73940640022\n",
      "not diverse neitherRated(%):  0.646100691017 RMSE:  0.240016471933\n"
     ]
    }
   ],
   "source": [
    "#go over sets and see if high diversity sets tend to be overrated or underrated\n",
    "nSets           = 0.0\n",
    "RMSE            = 0.0\n",
    "nDiverseSets    = 0.0\n",
    "diverseRMSE     = 0.0\n",
    "nNotDiverseSets = 0.0\n",
    "notDiverseRMSE  = 0.0\n",
    "\n",
    "nUnderRatedSets           = 0.0\n",
    "underRatedRMSE            = 0.0\n",
    "nDiverseUnderRatedSets    = 0.0\n",
    "diverseUnderRatedRMSE     = 0.0\n",
    "nNotDiverseUnderRatedSets = 0.0\n",
    "notDiverseUnderRatedRMSE  = 0.0\n",
    "\n",
    "nOverRatedSets           = 0.0\n",
    "overRatedRMSE            = 0.0\n",
    "nDiverseOverRatedSets    = 0.0\n",
    "diverseOverRatedRMSE     = 0.0\n",
    "nNotDiverseOverRatedSets = 0.0\n",
    "notDiverseOverRatedRMSE  = 0.0\n",
    "\n",
    "nNeitherRatedSets = 0.0\n",
    "neitherRatedRMSE  = 0.0\n",
    "nDiverseNeitherRatedSets = 0.0\n",
    "diverseNeitherRatedRMSE  = 0.0\n",
    "nNotDiverseNeitherRatedSets = 0.0\n",
    "notDiverseNeitherRatedRMSE = 0.0\n",
    "\n",
    "for user, setRatings in uSetRatings.iteritems():\n",
    "    for setRating in setRatings:\n",
    "        items = setRating[0]\n",
    "        rating = setRating[1]\n",
    "        setDev = getSetDevFrmAvg(user, items)\n",
    "        avgRat = avgSetRat(user, items)\n",
    "        diff = avgRat - rating\n",
    "        seDiff = diff*diff\n",
    "        nSets += 1\n",
    "        RMSE += seDiff\n",
    "        setRatingType = isSetUnderOverRat(user, items, rating)\n",
    "        \n",
    "        if setRatingType == UNDER_RATED_SET:\n",
    "            nUnderRatedSets += 1\n",
    "            underRatedRMSE += seDiff\n",
    "        elif setRatingType == OVER_RATED_SET:\n",
    "            nOverRatedSets += 1\n",
    "            overRatedRMSE += seDiff\n",
    "        else:\n",
    "            nNeitherRatedSets += 1\n",
    "            neitherRatedRMSE += seDiff\n",
    "            \n",
    "        if setDev >= 0.7:\n",
    "            #set has polarized ratings\n",
    "            nDiverseSets += 1\n",
    "            diverseRMSE += seDiff\n",
    "            if setRatingType == UNDER_RATED_SET:\n",
    "                nDiverseUnderRatedSets += 1\n",
    "                diverseUnderRatedRMSE += seDiff\n",
    "            elif setRatingType == OVER_RATED_SET:\n",
    "                nDiverseOverRatedSets += 1\n",
    "                diverseOverRatedRMSE += seDiff\n",
    "            else:\n",
    "                nDiverseNeitherRatedSets += 1\n",
    "                diverseNeitherRatedRMSE += seDiff\n",
    "        else:\n",
    "            nNotDiverseSets += 1\n",
    "            notDiverseRMSE += seDiff\n",
    "            if setRatingType == UNDER_RATED_SET:\n",
    "                nNotDiverseUnderRatedSets += 1\n",
    "                notDiverseUnderRatedRMSE += seDiff\n",
    "            elif setRatingType == OVER_RATED_SET:\n",
    "                nNotDiverseOverRatedSets += 1\n",
    "                notDiverseOverRatedRMSE += seDiff\n",
    "            else:\n",
    "                nNotDiverseNeitherRatedSets += 1\n",
    "                notDiverseNeitherRatedRMSE += seDiff\n",
    "            \n",
    "print 'nSets: ', nSets , 'RMSE: ', np.sqrt(RMSE/nSets)\n",
    "print 'underRated(%): ', float(nUnderRatedSets)/nSets, 'RMSE: ', np.sqrt(underRatedRMSE/nUnderRatedSets)\n",
    "print 'overRated(%): ', float(nOverRatedSets)/nSets, 'RMSE: ', np.sqrt(overRatedRMSE/nOverRatedSets)\n",
    "print 'neitherRated(%): ', float(nNeitherRatedSets)/nSets, 'RMSE: ', np.sqrt(neitherRatedRMSE/nNeitherRatedSets)\n",
    "print ' '\n",
    "\n",
    "print 'diverse sets: ', nDiverseSets, 'RMSE: ', np.sqrt(diverseRMSE/ nDiverseSets)\n",
    "print 'diverse underRated(%): ', float(nDiverseUnderRatedSets)/nDiverseSets, 'RMSE: ', np.sqrt(diverseUnderRatedRMSE/nDiverseUnderRatedSets)\n",
    "print 'diverse overRated(%): ', float(nDiverseOverRatedSets)/nDiverseSets, 'RMSE: ', np.sqrt(diverseOverRatedRMSE/nDiverseOverRatedSets)\n",
    "print 'diverse neitherRated(%): ', float(nDiverseNeitherRatedSets)/nDiverseSets, 'RMSE: ', np.sqrt(diverseNeitherRatedRMSE/nDiverseNeitherRatedSets)\n",
    "print ' '\n",
    "\n",
    "print 'not diverse sets: ', nNotDiverseSets, 'RMSE: ', np.sqrt(notDiverseRMSE/nNotDiverseSets)\n",
    "print 'not diverse underRated(%): ', float(nNotDiverseUnderRatedSets)/nNotDiverseSets, 'RMSE: ', np.sqrt(notDiverseUnderRatedRMSE/nNotDiverseUnderRatedSets) \n",
    "print 'not diverse overRated(%): ', float(nNotDiverseOverRatedSets)/nNotDiverseSets, 'RMSE: ', np.sqrt(notDiverseOverRatedRMSE/nNotDiverseOverRatedSets)\n",
    "print 'not diverse neitherRated(%): ', float(nNotDiverseNeitherRatedSets)/nNotDiverseSets, 'RMSE: ', np.sqrt(notDiverseNeitherRatedRMSE/nNotDiverseNeitherRatedSets)"
   ]
  },
  {
   "cell_type": "code",
   "execution_count": 147,
   "metadata": {
    "collapsed": false
   },
   "outputs": [],
   "source": [
    "uSetPc = {}\n",
    "for user, setRatings in uSetRatings.iteritems():\n",
    "    nSets = len(setRatings)\n",
    "    nUnderRatedSets = 0\n",
    "    nOverRatedSets = 0\n",
    "    nNeitherRatedSets = 0\n",
    "    if user in uUnderRatedSetRatings:\n",
    "        nUnderRatedSets = float(len(uUnderRatedSetRatings[user]))\n",
    "    if user in uOverRatedSetRatings:\n",
    "        nOverRatedSets = float(len(uOverRatedSetRatings[user]))\n",
    "    if user in uNeitherRatedSetRatings:\n",
    "        nNeitherRatedSets = float(len(uNeitherRatedSetRatings[user]))\n",
    "    if nUnderRatedSets + nOverRatedSets + nNeitherRatedSets != nSets:\n",
    "        print 'No. of sets mismatch for', user\n",
    "    uSetPc[user] = (nUnderRatedSets/nSets, nOverRatedSets/nSets, nNeitherRatedSets/nSets)"
   ]
  },
  {
   "cell_type": "code",
   "execution_count": null,
   "metadata": {
    "collapsed": false
   },
   "outputs": [],
   "source": []
  },
  {
   "cell_type": "code",
   "execution_count": 148,
   "metadata": {
    "collapsed": false
   },
   "outputs": [],
   "source": [
    "underRatedPc = []\n",
    "overRatedPc = []\n",
    "neitherRatedPc = []\n",
    "pcTuples = []\n",
    "for user, pcs in uSetPc.iteritems():\n",
    "    setRatings = uSetRatings[user]\n",
    "    nSets = len(setRatings)\n",
    "    if nSets < 50:\n",
    "        continue\n",
    "    underRatedPc.append(pcs[0])\n",
    "    overRatedPc.append(pcs[1])\n",
    "    neitherRatedPc.append(pcs[2])\n",
    "    pcTuples.append((pcs[0], pcs[1], pcs[2]))"
   ]
  },
  {
   "cell_type": "code",
   "execution_count": 149,
   "metadata": {
    "collapsed": false
   },
   "outputs": [
    {
     "data": {
      "text/plain": [
       "<matplotlib.text.Text at 0x7fbb1c3f3990>"
      ]
     },
     "execution_count": 149,
     "metadata": {},
     "output_type": "execute_result"
    },
    {
     "data": {
      "image/png": "[encoded data removed]",
      "text/plain": [
       "<matplotlib.figure.Figure at 0x7fbb1d4299d0>"
      ]
     },
     "metadata": {},
     "output_type": "display_data"
    }
   ],
   "source": [
    "pcTuples.sort(key = lambda tup: tup[1])\n",
    "pcTuples.sort(key = lambda tup: tup[2])\n",
    "pcTuples.sort(key = lambda tup: tup[0])\n",
    "\n",
    "nUsers = len(pcTuples)\n",
    "x = range(nUsers)\n",
    "underRatedPcs = []\n",
    "overRatedPcs = []\n",
    "neitherRatedPcs = []\n",
    "\n",
    "for pcTuple in pcTuples:\n",
    "    underRatedPcs.append(pcTuple[0])\n",
    "    overRatedPcs.append(pcTuple[1])\n",
    "    neitherRatedPcs.append(pcTuple[2])\n",
    "f = plt.figure(figsize = (20,6))\n",
    "plt.bar(x, underRatedPcs, color = 'b', label='underRated')\n",
    "plt.bar(x, overRatedPcs, color = 'r', bottom = underRatedPcs, label='overRated')\n",
    "plt.bar(x, neitherRatedPcs, color='g', bottom = [i+j  for i,j in zip(underRatedPcs, overRatedPcs)], label='neitherRated')\n",
    "plt.axis(\"tight\")\n",
    "plt.legend(loc=9, bbox_to_anchor=(0.5, 1.1), ncol=3)\n",
    "plt.xlabel('Users')\n",
    "plt.ylabel('%')"
   ]
  },
  {
   "cell_type": "code",
   "execution_count": 150,
   "metadata": {
    "collapsed": false
   },
   "outputs": [
    {
     "data": {
      "text/plain": [
       "<matplotlib.text.Text at 0x7fbb1d4e39d0>"
      ]
     },
     "execution_count": 150,
     "metadata": {},
     "output_type": "execute_result"
    },
    {
     "data": {
      "image/png": "[encoded data removed]",
      "text/plain": [
       "<matplotlib.figure.Figure at 0x7fbb1c785850>"
      ]
     },
     "metadata": {},
     "output_type": "display_data"
    }
   ],
   "source": [
    "pcTuples.sort(key = lambda tup: tup[0])\n",
    "pcTuples.sort(key = lambda tup: tup[2])\n",
    "pcTuples.sort(key = lambda tup: tup[1])\n",
    "\n",
    "nUsers = len(pcTuples)\n",
    "x = range(nUsers)\n",
    "underRatedPcs = []\n",
    "overRatedPcs = []\n",
    "neitherRatedPcs = []\n",
    "\n",
    "for pcTuple in pcTuples:\n",
    "    underRatedPcs.append(pcTuple[0])\n",
    "    overRatedPcs.append(pcTuple[1])\n",
    "    neitherRatedPcs.append(pcTuple[2])\n",
    "f = plt.figure(figsize = (20,6))\n",
    "plt.bar(x, overRatedPcs, color = 'r', label='overRated')\n",
    "plt.bar(x, underRatedPcs, color = 'b', bottom=overRatedPcs, label='underRated')\n",
    "plt.bar(x, neitherRatedPcs, color='g', bottom = [i+j  for i,j in zip(underRatedPcs, overRatedPcs)], label='neitherRated')\n",
    "plt.axis(\"tight\")\n",
    "plt.legend(loc=9, bbox_to_anchor=(0.5, 1.1), ncol=3)\n",
    "plt.xlabel('Users')\n",
    "plt.ylabel('%')"
   ]
  },
  {
   "cell_type": "code",
   "execution_count": 176,
   "metadata": {
    "collapsed": false
   },
   "outputs": [
    {
     "data": {
      "text/plain": [
       "<matplotlib.text.Text at 0x7fbb17e91a50>"
      ]
     },
     "execution_count": 176,
     "metadata": {},
     "output_type": "execute_result"
    },
    {
     "data": {
      "image/png": "[encoded data removed]",
      "text/plain": [
       "<matplotlib.figure.Figure at 0x7fbb188c23d0>"
      ]
     },
     "metadata": {},
     "output_type": "display_data"
    }
   ],
   "source": [
    "pcTuples.sort(key = lambda tup: tup[1])\n",
    "pcTuples.sort(key = lambda tup: tup[0])\n",
    "pcTuples.sort(key = lambda tup: tup[2])\n",
    "\n",
    "nUsers = len(pcTuples)\n",
    "x = range(nUsers)\n",
    "underRatedPcs = []\n",
    "overRatedPcs = []\n",
    "neitherRatedPcs = []\n",
    "\n",
    "for pcTuple in pcTuples:\n",
    "    underRatedPcs.append(pcTuple[0])\n",
    "    overRatedPcs.append(pcTuple[1])\n",
    "    neitherRatedPcs.append(pcTuple[2])\n",
    "f = plt.figure(figsize = (20,6))\n",
    "plt.bar(x, underRatedPcs, color = 'b', label='underRated')\n",
    "plt.bar(x, overRatedPcs, color = 'r', bottom = underRatedPcs, label='overRated')\n",
    "plt.bar(x, neitherRatedPcs, color='g', bottom = [i+j  for i,j in zip(underRatedPcs, overRatedPcs)], label='neitherRated')\n",
    "plt.axis(\"tight\")\n",
    "plt.legend(loc=9, bbox_to_anchor=(0.5, 1.1), ncol=3)\n",
    "plt.xlabel('Users')\n",
    "plt.ylabel('%')"
   ]
  },
  {
   "cell_type": "code",
   "execution_count": 152,
   "metadata": {
    "collapsed": false
   },
   "outputs": [
    {
     "data": {
      "text/plain": [
       "(0.60976970609764192, 0.22023566541408551, 0.16999462848827257)"
      ]
     },
     "execution_count": 152,
     "metadata": {},
     "output_type": "execute_result"
    }
   ],
   "source": [
    "np.average(neitherRatedPcs), np.average(underRatedPcs), np.average(overRatedPcs)"
   ]
  },
  {
   "cell_type": "code",
   "execution_count": 153,
   "metadata": {
    "collapsed": false
   },
   "outputs": [],
   "source": [
    "setsLabel = []\n",
    "for user, setRatings in uSetRatings.iteritems():\n",
    "    if len(setRatings) < 50:\n",
    "        continue\n",
    "    for setRating in setRatings:\n",
    "        items = setRating[0]\n",
    "        rating = setRating[1]\n",
    "        setRatingType = isSetUnderOverRat(user, items, rating)\n",
    "        setsLabel.append(setRatingType)"
   ]
  },
  {
   "cell_type": "code",
   "execution_count": 154,
   "metadata": {
    "collapsed": false
   },
   "outputs": [
    {
     "data": {
      "text/plain": [
       "16231"
      ]
     },
     "execution_count": 154,
     "metadata": {},
     "output_type": "execute_result"
    }
   ],
   "source": [
    "len(setsLabel)"
   ]
  },
  {
   "cell_type": "code",
   "execution_count": 155,
   "metadata": {
    "collapsed": true
   },
   "outputs": [],
   "source": [
    "permSetsLabel = np.random.permutation(setsLabel)"
   ]
  },
  {
   "cell_type": "code",
   "execution_count": 91,
   "metadata": {
    "collapsed": false
   },
   "outputs": [
    {
     "data": {
      "text/plain": [
       "50.721875"
      ]
     },
     "execution_count": 91,
     "metadata": {},
     "output_type": "execute_result"
    }
   ],
   "source": [
    "float(len(permSetsLabel))/320"
   ]
  },
  {
   "cell_type": "code",
   "execution_count": 173,
   "metadata": {
    "collapsed": true
   },
   "outputs": [],
   "source": [
    "def randLabels():\n",
    "    permSetsLabel = np.random.permutation(setsLabel)\n",
    "    uPermSetsPc = {}\n",
    "    uPermPcTuples = []\n",
    "    for u in range(320):\n",
    "        start = u*50\n",
    "        uSetsLabel = permSetsLabel[start:start+50]\n",
    "        underCount = 0.0\n",
    "        overCount = 0.0\n",
    "        for label in uSetsLabel:\n",
    "            if label == UNDER_RATED_SET:\n",
    "                underCount += 1\n",
    "            elif label == OVER_RATED_SET:\n",
    "                overCount += 1\n",
    "        neitherCount = 50.0 - (underCount + overCount)\n",
    "        underPc   = underCount/50\n",
    "        overPc    = overCount/50\n",
    "        neitherPC = neitherCount/50\n",
    "        uPermSetsPc[u] = [underPc, overPc, neitherPC]\n",
    "        uPermPcTuples.append((underPc, overPc, neitherPC))\n",
    "    uPermPcTuples.sort(key = lambda tup: tup[1])\n",
    "    uPermPcTuples.sort(key = lambda tup: tup[0])\n",
    "    uPermPcTuples.sort(key = lambda tup: tup[2])\n",
    "    nUsers = len(uPermPcTuples)\n",
    "    x = range(nUsers)\n",
    "    underRatedPcs = []\n",
    "    overRatedPcs = []\n",
    "    neitherRatedPcs = []\n",
    "\n",
    "    for pcTuple in uPermPcTuples:\n",
    "        underRatedPcs.append(pcTuple[0])\n",
    "        overRatedPcs.append(pcTuple[1])\n",
    "        neitherRatedPcs.append(pcTuple[2])\n",
    "    f = plt.figure(figsize = (20,6))\n",
    "    #plt.bar(x, overRatedPcs, color = 'r', label='overRated')\n",
    "    #plt.bar(x, underRatedPcs, color = 'b', bottom=overRatedPcs, label='underRated')\n",
    "    plt.bar(x, underRatedPcs, color = 'b', label='underRated')\n",
    "    plt.bar(x, overRatedPcs, color = 'r', bottom = underRatedPcs, label='overRated')\n",
    "    plt.bar(x, neitherRatedPcs, color='g', bottom = [i+j  for i,j in zip(underRatedPcs, overRatedPcs)], label='neitherRated')\n",
    "    plt.axis(\"tight\")\n",
    "    plt.legend(loc=9, bbox_to_anchor=(0.5, 1.1), ncol=3)\n",
    "    plt.xlabel('Users')\n",
    "    plt.ylabel('%')\n",
    "    \n",
    "    print np.average(underRatedPcs), np.average(overRatedPcs), np.average(neitherRatedPcs)\n",
    "    return (underRatedPcs, overRatedPcs, neitherRatedPcs)"
   ]
  },
  {
   "cell_type": "code",
   "execution_count": 159,
   "metadata": {
    "collapsed": false
   },
   "outputs": [
    {
     "name": "stdout",
     "output_type": "stream",
     "text": [
      "0.220625 0.1708125 0.6085625\n"
     ]
    },
    {
     "data": {
      "image/png": "[encoded data removed]",
      "text/plain": [
       "<matplotlib.figure.Figure at 0x7fbb1c95e210>"
      ]
     },
     "metadata": {},
     "output_type": "display_data"
    }
   ],
   "source": [
    "randLabels()"
   ]
  },
  {
   "cell_type": "code",
   "execution_count": 161,
   "metadata": {
    "collapsed": false
   },
   "outputs": [
    {
     "name": "stdout",
     "output_type": "stream",
     "text": [
      "0.2206875 0.170625 0.6086875\n"
     ]
    },
    {
     "data": {
      "image/png": "[encoded data removed]",
      "text/plain": [
       "<matplotlib.figure.Figure at 0x7fbb172e6890>"
      ]
     },
     "metadata": {},
     "output_type": "display_data"
    }
   ],
   "source": [
    "randLabels()"
   ]
  },
  {
   "cell_type": "code",
   "execution_count": 175,
   "metadata": {
    "collapsed": false
   },
   "outputs": [
    {
     "name": "stdout",
     "output_type": "stream",
     "text": [
      "0.2200625 0.1705 0.6094375\n"
     ]
    },
    {
     "data": {
      "image/png": "[encoded data removed]",
      "text/plain": [
       "<matplotlib.figure.Figure at 0x7fbb16ac3fd0>"
      ]
     },
     "metadata": {},
     "output_type": "display_data"
    }
   ],
   "source": [
    "(randUnderRatedPcs, randOverRatedPcs, randNeitherRatedPcs) = randLabels()"
   ]
  },
  {
   "cell_type": "code",
   "execution_count": 187,
   "metadata": {
    "collapsed": false
   },
   "outputs": [
    {
     "name": "stdout",
     "output_type": "stream",
     "text": [
      "320 320\n",
      "Ttest_indResult(statistic=0.015179086364678369, pvalue=0.98789405177093248)\n",
      "Ttest_indResult(statistic=-0.056941637710800949, pvalue=0.95460951412952588)\n",
      "Ttest_indResult(statistic=0.029842875289157789, pvalue=0.97620169715892402)\n",
      "Ttest_indResult(statistic=0.056941637710804079, pvalue=0.95460951412952344)\n"
     ]
    }
   ],
   "source": [
    "print len(underRatedPcs), len(overRatedPcs)\n",
    "diffRatedPcs = [ underRatedPcs[i] + neitherRatedPcs[i] for i in range(len(underRatedPcs))]\n",
    "diffRandRatedPcs = [randUnderRatedPcs[i] + randNeitherRatedPcs[i] for i in range(len(randOverRatedPcs))]\n",
    "print stats.ttest_ind(underRatedPcs, randUnderRatedPcs)\n",
    "print stats.ttest_ind(overRatedPcs, randOverRatedPcs)\n",
    "print stats.ttest_ind(neitherRatedPcs, randNeitherRatedPcs)\n",
    "print stats.ttest_ind(diffRatedPcs, diffRandRatedPcs)"
   ]
  },
  {
   "cell_type": "code",
   "execution_count": 164,
   "metadata": {
    "collapsed": false
   },
   "outputs": [
    {
     "name": "stdout",
     "output_type": "stream",
     "text": [
      "avg neitherPc:  0.604345726357\n",
      "avg underPc:  0.222040770152\n",
      "avg overPc:  0.173613503491\n"
     ]
    }
   ],
   "source": [
    "itemRatingPair = {}\n",
    "for user, setRatings in uSetRatings.iteritems():\n",
    "    for setRating in setRatings:\n",
    "        items = setRating[0]\n",
    "        rating = setRating[1]\n",
    "        setRatingType = isSetUnderOverRat(user, items, rating)\n",
    "        for item in items:\n",
    "            itemRating = uiRatings[user][item]\n",
    "            if item not in itemRatingPair:\n",
    "                itemRatingPair[item] = {}\n",
    "            if itemRating not in itemRatingPair[item]:\n",
    "                itemRatingPair[item][itemRating] = [0.0, 0.0, 0.0, 0.0] #[neitherCt, unCt, ovCt, total]\n",
    "            itemRatingPair[item][itemRating][setRatingType] += 1\n",
    "            itemRatingPair[item][itemRating][3] += 1\n",
    "            \n",
    "for item, ratingNCount in itemRatingPair.iteritems():\n",
    "    for rating, counts in ratingNCount.iteritems():\n",
    "        itemRatingPair[item][rating][0] = itemRatingPair[item][rating][0]/itemRatingPair[item][rating][3]\n",
    "        itemRatingPair[item][rating][1] = itemRatingPair[item][rating][1]/itemRatingPair[item][rating][3]\n",
    "        itemRatingPair[item][rating][2] = itemRatingPair[item][rating][2]/itemRatingPair[item][rating][3]\n",
    "\n",
    "neitherPc = []\n",
    "overPc = []\n",
    "underPc = []\n",
    "for item, ratingNCount in itemRatingPair.iteritems():\n",
    "    for rating, counts in ratingNCount.iteritems():\n",
    "        nSets = counts[3]\n",
    "        if nSets >= 5:\n",
    "            neitherPc.append(counts[NEITHER_RATED_SET])\n",
    "            underPc.append(counts[UNDER_RATED_SET])\n",
    "            overPc.append(counts[OVER_RATED_SET])\n",
    "print 'avg neitherPc: ', np.average(neitherPc)\n",
    "print 'avg underPc: ', np.average(underPc)\n",
    "print 'avg overPc: ', np.average(overPc)"
   ]
  },
  {
   "cell_type": "code",
   "execution_count": 165,
   "metadata": {
    "collapsed": false
   },
   "outputs": [
    {
     "data": {
      "text/plain": [
       "<matplotlib.text.Text at 0x7fbb153d5a50>"
      ]
     },
     "execution_count": 165,
     "metadata": {},
     "output_type": "execute_result"
    },
    {
     "data": {
      "image/png": "[encoded data removed]",
      "text/plain": [
       "<matplotlib.figure.Figure at 0x7fbb15af4bd0>"
      ]
     },
     "metadata": {},
     "output_type": "display_data"
    }
   ],
   "source": [
    "plt.hist(neitherPc)\n",
    "plt.xlabel('%')\n",
    "plt.ylabel('No. of item-rating pairs')\n",
    "plt.title('Neither rated % of item-rating pairs')"
   ]
  },
  {
   "cell_type": "code",
   "execution_count": 166,
   "metadata": {
    "collapsed": false
   },
   "outputs": [
    {
     "data": {
      "text/plain": [
       "<matplotlib.text.Text at 0x7fbb16bafb10>"
      ]
     },
     "execution_count": 166,
     "metadata": {},
     "output_type": "execute_result"
    },
    {
     "data": {
      "image/png": "[encoded data removed]",
      "text/plain": [
       "<matplotlib.figure.Figure at 0x7fbb154cb610>"
      ]
     },
     "metadata": {},
     "output_type": "display_data"
    }
   ],
   "source": [
    "plt.hist(overPc);\n",
    "plt.xlabel('%')\n",
    "plt.ylabel('No. of item-rating pairs')\n",
    "plt.title('Over-rated % of item-rating pairs')"
   ]
  },
  {
   "cell_type": "code",
   "execution_count": 167,
   "metadata": {
    "collapsed": false
   },
   "outputs": [
    {
     "data": {
      "text/plain": [
       "<matplotlib.text.Text at 0x7fbb16ad1f50>"
      ]
     },
     "execution_count": 167,
     "metadata": {},
     "output_type": "execute_result"
    },
    {
     "data": {
      "image/png": "[encoded data removed]",
      "text/plain": [
       "<matplotlib.figure.Figure at 0x7fbb16b87c10>"
      ]
     },
     "metadata": {},
     "output_type": "display_data"
    }
   ],
   "source": [
    "plt.hist(underPc);\n",
    "plt.xlabel('%')\n",
    "plt.ylabel('No. of item-rating pairs')\n",
    "plt.title('Under rated % of item-rating pairs')"
   ]
  },
  {
   "cell_type": "code",
   "execution_count": null,
   "metadata": {
    "collapsed": false
   },
   "outputs": [],
   "source": []
  },
  {
   "cell_type": "code",
   "execution_count": 330,
   "metadata": {
    "collapsed": false
   },
   "outputs": [
    {
     "name": "stdout",
     "output_type": "stream",
     "text": [
      "underRated itemRating pairs:  3322.0 low rated:  0.336243226972 high rated:  0.663756773028\n",
      "overRated  itemRating pairs:  3417.0 low rated:  0.419959028387 high rated:  0.580040971613\n"
     ]
    }
   ],
   "source": [
    "underSetCt = 0.0\n",
    "loUnderCt = 0.0\n",
    "hiUnderCt = 0.0\n",
    "\n",
    "overSetCt = 0.0\n",
    "loOverCt = 0.0\n",
    "hiOverCt = 0.0\n",
    "\n",
    "neitherSetCt = 0.0\n",
    "\n",
    "for item, ratingNCount in itemRatingPair.iteritems():\n",
    "    for rating, counts in ratingNCount.iteritems():\n",
    "        nSets = counts[3]\n",
    "        if nSets >= 5:\n",
    "            if counts[UNDER_RATED_SET] > 0.22:\n",
    "                underSetCt += 1\n",
    "                if rating > 3:\n",
    "                    hiUnderCt += 1\n",
    "                else:\n",
    "                    loUnderCt += 1\n",
    "            if counts[OVER_RATED_SET] > 0.17:\n",
    "                overSetCt += 1\n",
    "                if rating > 3:\n",
    "                    hiOverCt += 1\n",
    "                else:\n",
    "                    loOverCt += 1\n",
    "                    \n",
    "print \"underRated itemRating pairs: \", underSetCt, \"low rated: \", loUnderCt/underSetCt, 'high rated: ', hiUnderCt/underSetCt\n",
    "print \"overRated  itemRating pairs: \", overSetCt, \"low rated: \", loOverCt/overSetCt, \"high rated: \", hiOverCt/overSetCt"
   ]
  },
  {
   "cell_type": "code",
   "execution_count": 182,
   "metadata": {
    "collapsed": false
   },
   "outputs": [
    {
     "data": {
      "text/plain": [
       "F_onewayResult(statistic=0.0032423501050771342, pvalue=0.95460951412998996)"
      ]
     },
     "execution_count": 182,
     "metadata": {},
     "output_type": "execute_result"
    }
   ],
   "source": [
    "stats.f_oneway(randOverRatedPcs, overRatedPcs)"
   ]
  },
  {
   "cell_type": "code",
   "execution_count": 217,
   "metadata": {
    "collapsed": false
   },
   "outputs": [
    {
     "data": {
      "text/plain": [
       "<matplotlib.text.Text at 0x7fbb16b73f90>"
      ]
     },
     "execution_count": 217,
     "metadata": {},
     "output_type": "execute_result"
    },
    {
     "data": {
      "image/png": "[encoded data removed]",
      "text/plain": [
       "<matplotlib.figure.Figure at 0x7fbb1574afd0>"
      ]
     },
     "metadata": {},
     "output_type": "display_data"
    }
   ],
   "source": [
    "plt.hist(randOverRatedPcs)\n",
    "plt.xlabel('random overrated %')\n",
    "plt.ylabel('No. of users')"
   ]
  },
  {
   "cell_type": "code",
   "execution_count": 219,
   "metadata": {
    "collapsed": false
   },
   "outputs": [
    {
     "data": {
      "text/plain": [
       "<matplotlib.text.Text at 0x7fbb1577e210>"
      ]
     },
     "execution_count": 219,
     "metadata": {},
     "output_type": "execute_result"
    },
    {
     "data": {
      "image/png": "[encoded data removed]",
      "text/plain": [
       "<matplotlib.figure.Figure at 0x7fbb16c88c50>"
      ]
     },
     "metadata": {},
     "output_type": "display_data"
    }
   ],
   "source": [
    "plt.hist(overRatedPcs)\n",
    "plt.xlabel('actual overrated %')\n",
    "plt.ylabel('No. of users')"
   ]
  },
  {
   "cell_type": "code",
   "execution_count": 191,
   "metadata": {
    "collapsed": false
   },
   "outputs": [
    {
     "data": {
      "text/plain": [
       "(0.16999462848827257, 0.17050000000000001)"
      ]
     },
     "execution_count": 191,
     "metadata": {},
     "output_type": "execute_result"
    }
   ],
   "source": [
    "np.average(overRatedPcs), np.average(randOverRatedPcs)"
   ]
  },
  {
   "cell_type": "code",
   "execution_count": 223,
   "metadata": {
    "collapsed": false
   },
   "outputs": [
    {
     "data": {
      "text/plain": [
       "MannwhitneyuResult(statistic=42435.5, pvalue=8.5974554544112169e-05)"
      ]
     },
     "execution_count": 223,
     "metadata": {},
     "output_type": "execute_result"
    }
   ],
   "source": [
    "np.std(overRatedPcs), np.std(randOverRatedPcs)\n",
    "stats.ks_2samp(overRatedPcs, randOverRatedPcs)\n",
    "stats.shapiro(randOverRatedPcs)\n",
    "stats.mannwhitneyu(overRatedPcs, randOverRatedPcs)"
   ]
  },
  {
   "cell_type": "code",
   "execution_count": 215,
   "metadata": {
    "collapsed": false
   },
   "outputs": [
    {
     "data": {
      "text/plain": [
       "[<matplotlib.text.Text at 0x7fbb159cef90>,\n",
       " <matplotlib.text.Text at 0x7fbb159e8bd0>,\n",
       " <matplotlib.text.Text at 0x7fbb1588cf90>,\n",
       " <matplotlib.text.Text at 0x7fbb158993d0>,\n",
       " <matplotlib.text.Text at 0x7fbb15899950>,\n",
       " <matplotlib.text.Text at 0x7fbb158a5510>]"
      ]
     },
     "execution_count": 215,
     "metadata": {},
     "output_type": "execute_result"
    },
    {
     "data": {
      "text/plain": [
       "<matplotlib.figure.Figure at 0x7fbb15e692d0>"
      ]
     },
     "metadata": {},
     "output_type": "display_data"
    },
    {
     "data": {
      "image/png": "[encoded data removed]",
      "text/plain": [
       "<matplotlib.figure.Figure at 0x7fbb16d22d50>"
      ]
     },
     "metadata": {},
     "output_type": "display_data"
    }
   ],
   "source": [
    "f = plt.figure(figsize=(20,6))\n",
    "fig, ax = plt.subplots(1,1, figsize=(20,6))\n",
    "ax.boxplot([overRatedPcs, randOverRatedPcs, underRatedPcs, randUnderRatedPcs, neitherRatedPcs, randNeitherRatedPcs])\n",
    "ax.set_xticklabels(['overRated', 'randomOverRated', 'underRatedPcs', 'randUnderRatedPcs', 'neitherRatedPcs', 'randNeitherRatedPcs'])"
   ]
  },
  {
   "cell_type": "code",
   "execution_count": 274,
   "metadata": {
    "collapsed": false
   },
   "outputs": [],
   "source": [
    "def getOldestTstampSet(user, items):\n",
    "    tstamps = []\n",
    "    for item in items:\n",
    "        tstamps.append(uiTstamp[user][item])\n",
    "    tstamps.sort()\n",
    "    return tstamps[0]\n",
    "\n",
    "def getOldTstampSets(userSetRatings):\n",
    "    oldTstamps = []\n",
    "    for user, setRatings in userSetRatings.iteritems():\n",
    "        for setRating in setRatings:\n",
    "            items = setRating[0]\n",
    "            oldTstamps.append(getOldestTstampSet(user, items))\n",
    "    return oldTstamps\n",
    "\n",
    "def getOldTstampSetsDiff(userSetRatings):\n",
    "    diffTstamps = []\n",
    "    for user, setRatings in userSetRatings.iteritems():\n",
    "        for setRating in setRatings:\n",
    "            items = setRating[0]\n",
    "            oldestTstamp = getOldestTstampSet(user, items)\n",
    "            latestTstamp = usersLatestTstamp[user]\n",
    "            diffTstamps.append((latestTstamp  - oldestTstamp).total_seconds())\n",
    "    return diffTstamps\n",
    "\n",
    "def getOldTstampSetsLatestDiff(userSetRatings):\n",
    "    diffTstamps = []\n",
    "    for user, setRatings in userSetRatings.iteritems():\n",
    "        for setRating in setRatings:\n",
    "            items = setRating[0]\n",
    "            oldestTstamp = getOldestTstampSet(user, items)\n",
    "            latestTstamp = datetime.datetime.now()\n",
    "            diffTstamps.append((latestTstamp  - oldestTstamp).total_seconds())\n",
    "    return diffTstamps\n",
    "\n",
    "def getUsersLatestTstamp():\n",
    "    userLatestTstamp = {}\n",
    "    for user, itemTstamp in uiTstamp.iteritems():\n",
    "        uStamps = itemTstamp.values()\n",
    "        uStamps.sort()\n",
    "        userLatestTstamp[user] = uStamps[-1]\n",
    "    return userLatestTstamp"
   ]
  },
  {
   "cell_type": "code",
   "execution_count": 276,
   "metadata": {
    "collapsed": false
   },
   "outputs": [],
   "source": [
    "uUnderRatedTstamps = getOldTstampSets(uUnderRatedSetRatings)\n",
    "uOverRatedTstamps = getOldTstampSets(uOverRatedSetRatings)\n",
    "uNeitherRatedTstamps = getOldTstampSets(uNeitherRatedSetRatings)\n",
    "\n",
    "uUnderRatedTstampsDiff = getOldTstampSetsDiff(uUnderRatedSetRatings)\n",
    "uOverRatedTstampsDiff = getOldTstampSetsDiff(uOverRatedSetRatings)\n",
    "uNeitherRatedTstampsDiff = getOldTstampSetsDiff(uNeitherRatedSetRatings)\n",
    "\n",
    "uUnderRatedTstampsLatestDiff = getOldTstampSetsLatestDiff(uUnderRatedSetRatings)\n",
    "uOverRatedTstampsLatestDiff = getOldTstampSetsLatestDiff(uOverRatedSetRatings)\n",
    "uNeitherRatedTstampsLatestDiff = getOldTstampSetsLatestDiff(uNeitherRatedSetRatings)"
   ]
  },
  {
   "cell_type": "code",
   "execution_count": 255,
   "metadata": {
    "collapsed": false
   },
   "outputs": [],
   "source": [
    "usersLatestTstamp = getUsersLatestTstamp()"
   ]
  },
  {
   "cell_type": "code",
   "execution_count": 265,
   "metadata": {
    "collapsed": false
   },
   "outputs": [
    {
     "data": {
      "text/plain": [
       "[9303541.0, 9312496.0, 9310307.0]"
      ]
     },
     "execution_count": 265,
     "metadata": {},
     "output_type": "execute_result"
    }
   ],
   "source": [
    "uUnderRatedTstampsDiff[:3]"
   ]
  },
  {
   "cell_type": "code",
   "execution_count": 269,
   "metadata": {
    "collapsed": false
   },
   "outputs": [
    {
     "data": {
      "text/plain": [
       "(1734.2098617399263, 1361.1554936786044, 1369.616190470407)"
      ]
     },
     "execution_count": 269,
     "metadata": {},
     "output_type": "execute_result"
    }
   ],
   "source": [
    "np.average(uUnderRatedTstampsDiff)/(3600*24), np.average(uOverRatedTstampsDiff)/(3600*24), np.average(uNeitherRatedTstampsDiff)/(3600*24)"
   ]
  },
  {
   "cell_type": "code",
   "execution_count": 270,
   "metadata": {
    "collapsed": false
   },
   "outputs": [
    {
     "data": {
      "text/plain": [
       "Ttest_indResult(statistic=10.868173617063897, pvalue=2.2037049496178921e-27)"
      ]
     },
     "execution_count": 270,
     "metadata": {},
     "output_type": "execute_result"
    }
   ],
   "source": [
    "stats.ttest_ind(uUnderRatedTstampsDiff, uOverRatedTstampsDiff)"
   ]
  },
  {
   "cell_type": "code",
   "execution_count": 271,
   "metadata": {
    "collapsed": false
   },
   "outputs": [
    {
     "data": {
      "text/plain": [
       "Ttest_indResult(statistic=-0.30539158510113773, pvalue=0.76007070048876035)"
      ]
     },
     "execution_count": 271,
     "metadata": {},
     "output_type": "execute_result"
    }
   ],
   "source": [
    "stats.ttest_ind(uOverRatedTstampsDiff, uNeitherRatedTstampsDiff)"
   ]
  },
  {
   "cell_type": "code",
   "execution_count": 273,
   "metadata": {
    "collapsed": false
   },
   "outputs": [
    {
     "data": {
      "text/plain": [
       "Ttest_indResult(statistic=14.044730770507627, pvalue=1.2407885362481827e-44)"
      ]
     },
     "execution_count": 273,
     "metadata": {},
     "output_type": "execute_result"
    }
   ],
   "source": [
    "stats.ttest_ind(uUnderRatedTstampsDiff, uNeitherRatedTstampsDiff)"
   ]
  },
  {
   "cell_type": "code",
   "execution_count": 277,
   "metadata": {
    "collapsed": false
   },
   "outputs": [
    {
     "data": {
      "text/plain": [
       "(1841.2685534553516, 1467.8213540153199, 1456.8060104256751)"
      ]
     },
     "execution_count": 277,
     "metadata": {},
     "output_type": "execute_result"
    }
   ],
   "source": [
    "np.average(uUnderRatedTstampsLatestDiff)/(3600*24), np.average(uOverRatedTstampsLatestDiff)/(3600*24), np.average(uNeitherRatedTstampsLatestDiff)/(3600*24)"
   ]
  },
  {
   "cell_type": "code",
   "execution_count": 279,
   "metadata": {
    "collapsed": false
   },
   "outputs": [
    {
     "name": "stdout",
     "output_type": "stream",
     "text": [
      "Ttest_indResult(statistic=10.723759363233757, pvalue=1.0454089944224831e-26)\n",
      "Ttest_indResult(statistic=-0.3944279295091444, pvalue=0.69326879303397637)\n",
      "Ttest_indResult(statistic=14.653978147093945, pvalue=2.0453756568057031e-48)\n"
     ]
    }
   ],
   "source": [
    "print stats.ttest_ind(uUnderRatedTstampsLatestDiff, uOverRatedTstampsLatestDiff)\n",
    "print stats.ttest_ind(uNeitherRatedTstampsLatestDiff, uOverRatedTstampsLatestDiff)\n",
    "print stats.ttest_ind(uUnderRatedTstampsLatestDiff, uNeitherRatedTstampsLatestDiff)"
   ]
  },
  {
   "cell_type": "code",
   "execution_count": 283,
   "metadata": {
    "collapsed": false
   },
   "outputs": [
    {
     "data": {
      "image/png": "[encoded data removed]",
      "text/plain": [
       "<matplotlib.figure.Figure at 0x7fbb151afe50>"
      ]
     },
     "metadata": {},
     "output_type": "display_data"
    }
   ],
   "source": [
    "plt.hist(uUnderRatedTstampsLatestDiff);"
   ]
  },
  {
   "cell_type": "code",
   "execution_count": 289,
   "metadata": {
    "collapsed": false
   },
   "outputs": [
    {
     "data": {
      "image/png": "[encoded data removed]",
      "text/plain": [
       "<matplotlib.figure.Figure at 0x7fbb14b66c50>"
      ]
     },
     "metadata": {},
     "output_type": "display_data"
    }
   ],
   "source": [
    "plt.hist(uOverRatedTstampsLatestDiff);"
   ]
  },
  {
   "cell_type": "code",
   "execution_count": 288,
   "metadata": {
    "collapsed": false
   },
   "outputs": [
    {
     "data": {
      "image/png": "[encoded data removed]",
      "text/plain": [
       "<matplotlib.figure.Figure at 0x7fbb14c6af10>"
      ]
     },
     "metadata": {},
     "output_type": "display_data"
    }
   ],
   "source": [
    "plt.hist(uNeitherRatedTstampsLatestDiff);"
   ]
  },
  {
   "cell_type": "code",
   "execution_count": 317,
   "metadata": {
    "collapsed": false
   },
   "outputs": [],
   "source": [
    "nSets = 0.0\n",
    "nOldSets = 0.0\n",
    "nOldUnderRatedSets = 0.0\n",
    "nOldOverRatedSets = 0.0\n",
    "nOldNeitherRatedSets = 0.0\n",
    "uOldPcs = {}\n",
    "for user, setRatings in uSetRatings.iteritems():\n",
    "    uOldSets = 0.0\n",
    "    uOldUnderRatedSets = 0.0\n",
    "    uOldOverRatedSets = 0.0\n",
    "    uOldNeitherRatedSets = 0.0\n",
    "    for setRating in setRatings:\n",
    "        nSets += 1\n",
    "        items = setRating[0]\n",
    "        rating = setRating[1]\n",
    "        setRatingType = isSetUnderOverRat(user, items, rating)\n",
    "        oldTstamp = getOldestTstampSet(user, items)\n",
    "        tdiff = (usersLatestTstamp[user] - oldTstamp).total_seconds()\n",
    "        diffDays = tdiff/(3600*24)\n",
    "        if diffDays > 1500:\n",
    "            #old movie in set\n",
    "            nOldSets += 1\n",
    "            uOldSets += 1\n",
    "            if setRatingType == UNDER_RATED_SET:\n",
    "                nOldUnderRatedSets += 1\n",
    "                uOldUnderRatedSets += 1\n",
    "            elif setRatingType == OVER_RATED_SET:\n",
    "                nOldOverRatedSets += 1\n",
    "                uOldOverRatedSets += 1\n",
    "            else:\n",
    "                nOldNeitherRatedSets += 1\n",
    "                uOldNeitherRatedSets += 1\n",
    "    if uOldSets > 0:\n",
    "        uOldPcs[user] = [uOldUnderRatedSets/uOldSets, uOldOverRatedSets/uOldSets, uOldNeitherRatedSets/uOldSets, uOldSets]"
   ]
  },
  {
   "cell_type": "code",
   "execution_count": 295,
   "metadata": {
    "collapsed": false
   },
   "outputs": [
    {
     "name": "stdout",
     "output_type": "stream",
     "text": [
      "nOldSets:  10402.0\n",
      "nOldUnderRatedSets:  0.269371274755\n",
      "nOldOverRatedSets:  0.165160546049\n",
      "nOldNeitherRatedSets:  0.565468179196\n"
     ]
    }
   ],
   "source": [
    "#1370\n",
    "print 'nOldSets: ', nOldSets\n",
    "print 'nOldUnderRatedSets: ', nOldUnderRatedSets/nOldSets\n",
    "print 'nOldOverRatedSets: ', nOldOverRatedSets/nOldSets\n",
    "print 'nOldNeitherRatedSets: ', nOldNeitherRatedSets/nOldSets"
   ]
  },
  {
   "cell_type": "code",
   "execution_count": 298,
   "metadata": {
    "collapsed": false
   },
   "outputs": [
    {
     "name": "stdout",
     "output_type": "stream",
     "text": [
      "nOldSets (1500days and old):  9960.0\n",
      "nOldUnderRatedSets:  0.273493975904\n",
      "nOldOverRatedSets:  0.160040160643\n",
      "nOldNeitherRatedSets:  0.566465863454\n"
     ]
    }
   ],
   "source": [
    "print 'nOldSets (1500days and old): ', nOldSets\n",
    "print 'nOldUnderRatedSets: ', nOldUnderRatedSets/nOldSets\n",
    "print 'nOldOverRatedSets: ', nOldOverRatedSets/nOldSets\n",
    "print 'nOldNeitherRatedSets: ', nOldNeitherRatedSets/nOldSets"
   ]
  },
  {
   "cell_type": "code",
   "execution_count": 300,
   "metadata": {
    "collapsed": false
   },
   "outputs": [
    {
     "name": "stdout",
     "output_type": "stream",
     "text": [
      "nOldSets (2000 days and old):  8505.0\n",
      "nOldUnderRatedSets:  0.279717813051\n",
      "nOldOverRatedSets:  0.158612580835\n",
      "nOldNeitherRatedSets:  0.561669606114\n"
     ]
    }
   ],
   "source": [
    "print 'nOldSets (2000 days and old): ', nOldSets\n",
    "print 'nOldUnderRatedSets: ', nOldUnderRatedSets/nOldSets\n",
    "print 'nOldOverRatedSets: ', nOldOverRatedSets/nOldSets\n",
    "print 'nOldNeitherRatedSets: ', nOldNeitherRatedSets/nOldSets"
   ]
  },
  {
   "cell_type": "code",
   "execution_count": 302,
   "metadata": {
    "collapsed": false
   },
   "outputs": [
    {
     "name": "stdout",
     "output_type": "stream",
     "text": [
      "nOldSets (3000 days and old):  5844.0\n",
      "nOldUnderRatedSets:  0.274640657084\n",
      "nOldOverRatedSets:  0.170431211499\n",
      "nOldNeitherRatedSets:  0.554928131417\n"
     ]
    }
   ],
   "source": [
    "print 'nOldSets (3000 days and old): ', nOldSets\n",
    "print 'nOldUnderRatedSets: ', nOldUnderRatedSets/nOldSets\n",
    "print 'nOldOverRatedSets: ', nOldOverRatedSets/nOldSets\n",
    "print 'nOldNeitherRatedSets: ', nOldNeitherRatedSets/nOldSets"
   ]
  },
  {
   "cell_type": "code",
   "execution_count": 318,
   "metadata": {
    "collapsed": false
   },
   "outputs": [
    {
     "data": {
      "text/plain": [
       "247"
      ]
     },
     "execution_count": 318,
     "metadata": {},
     "output_type": "execute_result"
    }
   ],
   "source": [
    "len(uOldPcs)"
   ]
  },
  {
   "cell_type": "code",
   "execution_count": 319,
   "metadata": {
    "collapsed": false
   },
   "outputs": [],
   "source": [
    "uOldPcsUn = [tup[0] for tup in uOldPcs.values()]\n",
    "uOldPcsOv = [tup[1] for tup in uOldPcs.values()]\n",
    "uOldPcsNe = [tup[2] for tup in uOldPcs.values()]"
   ]
  },
  {
   "cell_type": "code",
   "execution_count": 327,
   "metadata": {
    "collapsed": false
   },
   "outputs": [
    {
     "data": {
      "text/plain": [
       "<matplotlib.text.Text at 0x7fbb0dbd0690>"
      ]
     },
     "execution_count": 327,
     "metadata": {},
     "output_type": "execute_result"
    },
    {
     "data": {
      "image/png": "[encoded data removed]",
      "text/plain": [
       "<matplotlib.figure.Figure at 0x7fbb0dc15f90>"
      ]
     },
     "metadata": {},
     "output_type": "display_data"
    }
   ],
   "source": [
    "f = plt.figure()\n",
    "ax = f.add_subplot(1, 1, 1)\n",
    "ax.hist(uOldPcsUn)\n",
    "ax.set_ylim(0,90)\n",
    "ax.set_xlabel('% of underrated sets')\n",
    "ax.set_ylabel('users')\n",
    "ax.set_title('sets containing movies older than 1500 days')"
   ]
  },
  {
   "cell_type": "code",
   "execution_count": 328,
   "metadata": {
    "collapsed": false
   },
   "outputs": [
    {
     "data": {
      "text/plain": [
       "<matplotlib.text.Text at 0x7fbb0daa6750>"
      ]
     },
     "execution_count": 328,
     "metadata": {},
     "output_type": "execute_result"
    },
    {
     "data": {
      "image/png": "[encoded data removed]",
      "text/plain": [
       "<matplotlib.figure.Figure at 0x7fbb0dc1c050>"
      ]
     },
     "metadata": {},
     "output_type": "display_data"
    }
   ],
   "source": [
    "plt.hist(uOldPcsOv);\n",
    "plt.xlabel('% of overrated sets')\n",
    "plt.ylabel('users')\n",
    "plt.title('sets containing movies older than 1500 days')"
   ]
  },
  {
   "cell_type": "code",
   "execution_count": 329,
   "metadata": {
    "collapsed": false
   },
   "outputs": [
    {
     "data": {
      "text/plain": [
       "<matplotlib.text.Text at 0x7fbb0da0e290>"
      ]
     },
     "execution_count": 329,
     "metadata": {},
     "output_type": "execute_result"
    },
    {
     "data": {
      "image/png": "[encoded data removed]",
      "text/plain": [
       "<matplotlib.figure.Figure at 0x7fbb0da21490>"
      ]
     },
     "metadata": {},
     "output_type": "display_data"
    }
   ],
   "source": [
    "plt.hist(uOldPcsNe);\n",
    "plt.xlabel('% of neither sets')\n",
    "plt.ylabel('users')\n",
    "plt.title('sets containing movies older than 1500 days')"
   ]
  },
  {
   "cell_type": "code",
   "execution_count": null,
   "metadata": {
    "collapsed": true
   },
   "outputs": [],
   "source": []
  }
 ],
 "metadata": {
  "kernelspec": {
   "display_name": "Python 2",
   "language": "python",
   "name": "python2"
  },
  "language_info": {
   "codemirror_mode": {
    "name": "ipython",
    "version": 2
   },
   "file_extension": ".py",
   "mimetype": "text/x-python",
   "name": "python",
   "nbconvert_exporter": "python",
   "pygments_lexer": "ipython2",
   "version": "2.7.10"
  }
 },
 "nbformat": 4,
 "nbformat_minor": 0
}
