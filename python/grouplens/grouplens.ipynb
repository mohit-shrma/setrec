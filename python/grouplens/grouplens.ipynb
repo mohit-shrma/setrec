{
 "cells": [
  {
   "cell_type": "code",
   "execution_count": 85,
   "metadata": {
    "collapsed": false
   },
   "outputs": [],
   "source": [
    "import MySQLdb\n",
    "import numpy as np\n",
    "import matplotlib.pyplot as plt\n",
    "%matplotlib inline"
   ]
  },
  {
   "cell_type": "code",
   "execution_count": 2,
   "metadata": {
    "collapsed": true
   },
   "outputs": [],
   "source": [
    "def getDBCursor():\n",
    "  db = MySQLdb.connect(host=\"flagon.cs.umn.edu\",     # your host\n",
    "                       user=\"readonly\",              # your username\n",
    "                       passwd=\"\",                    # your password\n",
    "                       db=\"ML3_mirror\")              # name of the data base\n",
    "  #get cursor to query\n",
    "  cur = db.cursor()\n",
    "  return cur\n"
   ]
  },
  {
   "cell_type": "code",
   "execution_count": 52,
   "metadata": {
    "collapsed": false
   },
   "outputs": [
    {
     "ename": "IOError",
     "evalue": "[Errno 2] No such file or directory: 'setRatings.csv'",
     "output_type": "error",
     "traceback": [
      "\u001b[1;31m---------------------------------------------------------------------------\u001b[0m",
      "\u001b[1;31mIOError\u001b[0m                                   Traceback (most recent call last)",
      "\u001b[1;32m<ipython-input-52-c6f8fc964cdf>\u001b[0m in \u001b[0;36m<module>\u001b[1;34m()\u001b[0m\n\u001b[0;32m      1\u001b[0m \u001b[0musers\u001b[0m \u001b[1;33m=\u001b[0m \u001b[0mset\u001b[0m\u001b[1;33m(\u001b[0m\u001b[1;33m)\u001b[0m\u001b[1;33m\u001b[0m\u001b[0m\n\u001b[0;32m      2\u001b[0m \u001b[0mitems\u001b[0m \u001b[1;33m=\u001b[0m \u001b[0mset\u001b[0m\u001b[1;33m(\u001b[0m\u001b[1;33m)\u001b[0m\u001b[1;33m\u001b[0m\u001b[0m\n\u001b[1;32m----> 3\u001b[1;33m \u001b[1;32mwith\u001b[0m \u001b[0mopen\u001b[0m\u001b[1;33m(\u001b[0m\u001b[1;34m'setRatings.csv'\u001b[0m\u001b[1;33m,\u001b[0m \u001b[1;34m'r'\u001b[0m\u001b[1;33m)\u001b[0m \u001b[1;32mas\u001b[0m \u001b[0mf\u001b[0m\u001b[1;33m:\u001b[0m\u001b[1;33m\u001b[0m\u001b[0m\n\u001b[0m\u001b[0;32m      4\u001b[0m     \u001b[1;32mfor\u001b[0m \u001b[0mline\u001b[0m \u001b[1;32min\u001b[0m \u001b[0mf\u001b[0m\u001b[1;33m:\u001b[0m\u001b[1;33m\u001b[0m\u001b[0m\n\u001b[0;32m      5\u001b[0m         \u001b[0mcols\u001b[0m \u001b[1;33m=\u001b[0m \u001b[0mline\u001b[0m\u001b[1;33m.\u001b[0m\u001b[0mstrip\u001b[0m\u001b[1;33m(\u001b[0m\u001b[1;33m)\u001b[0m\u001b[1;33m.\u001b[0m\u001b[0msplit\u001b[0m\u001b[1;33m(\u001b[0m\u001b[1;34m','\u001b[0m\u001b[1;33m)\u001b[0m\u001b[1;33m\u001b[0m\u001b[0m\n",
      "\u001b[1;31mIOError\u001b[0m: [Errno 2] No such file or directory: 'setRatings.csv'"
     ]
    }
   ],
   "source": [
    "users = set()\n",
    "items = set()\n",
    "with open('setRatings.csv', 'r') as f:\n",
    "    for line in f:\n",
    "        cols = line.strip().split(',')\n",
    "        user = int(cols[1])\n",
    "        uItems = cols[2].split('-')\n",
    "        users.add(user)\n",
    "        for item in uItems:\n",
    "            items.add(item)"
   ]
  },
  {
   "cell_type": "code",
   "execution_count": 7,
   "metadata": {
    "collapsed": false
   },
   "outputs": [
    {
     "data": {
      "text/plain": [
       "(925, 13226)"
      ]
     },
     "execution_count": 7,
     "metadata": {},
     "output_type": "execute_result"
    }
   ],
   "source": [
    "len(users), len(items)"
   ]
  },
  {
   "cell_type": "code",
   "execution_count": 8,
   "metadata": {
    "collapsed": true
   },
   "outputs": [],
   "source": [
    "q = 'select A.userId, A.movieId, A.rating, A.tstamp from user_rating_pairs A INNER JOIN expt_set_user_rating B ON A.userId=B.userId'"
   ]
  },
  {
   "cell_type": "code",
   "execution_count": 9,
   "metadata": {
    "collapsed": true
   },
   "outputs": [],
   "source": [
    "cur = getDBCursor()"
   ]
  },
  {
   "cell_type": "code",
   "execution_count": 10,
   "metadata": {
    "collapsed": false
   },
   "outputs": [
    {
     "name": "stdout",
     "output_type": "stream",
     "text": [
      "db_set_ratings.csv  db_ui_ratings.csv  Untitled.ipynb\r\n"
     ]
    }
   ],
   "source": [
    "ls"
   ]
  },
  {
   "cell_type": "code",
   "execution_count": 147,
   "metadata": {
    "collapsed": false
   },
   "outputs": [],
   "source": [
    "def getSetRatings(setFName):\n",
    "    uSetRatings = {}\n",
    "    nSets = 0\n",
    "    with open(setFName, 'r') as f:\n",
    "        for line in f:\n",
    "            cols   = line.strip().split(',')\n",
    "            user   = int(cols[0])\n",
    "            uItems = map(int, cols[1].split('-'))\n",
    "            rating = float(cols[2])\n",
    "            if user not in uSetRatings:\n",
    "                uSetRatings[user] = []\n",
    "            uSetRatings[user].append((uItems, rating))\n",
    "            nSets+= 1\n",
    "    print 'No. of sets: ', nSets\n",
    "    return uSetRatings"
   ]
  },
  {
   "cell_type": "code",
   "execution_count": 158,
   "metadata": {
    "collapsed": false
   },
   "outputs": [],
   "source": [
    "def getUIRatings(ratFName):\n",
    "    uiRatings = {}\n",
    "    uinnz = 0\n",
    "    with open(ratFName, 'r') as f:\n",
    "        for line in f:\n",
    "            cols = line.strip().split(',')\n",
    "            user = int(cols[0])\n",
    "            item = int(cols[1])\n",
    "            rating = float(cols[2])\n",
    "            if user not in uiRatings:\n",
    "                uiRatings[user] = {}\n",
    "            uiRatings[user][item] = rating\n",
    "            uinnz += 1\n",
    "    print 'No. of u-i ratings: ', uinnz\n",
    "    return uiRatings"
   ]
  },
  {
   "cell_type": "code",
   "execution_count": 128,
   "metadata": {
    "collapsed": false
   },
   "outputs": [
    {
     "name": "stdout",
     "output_type": "stream",
     "text": [
      "534626\n"
     ]
    }
   ],
   "source": [
    "print uinnz"
   ]
  },
  {
   "cell_type": "code",
   "execution_count": 98,
   "metadata": {
    "collapsed": false
   },
   "outputs": [
    {
     "ename": "ValueError",
     "evalue": "invalid literal for float(): 1580-2105-2571-3039-105844",
     "output_type": "error",
     "traceback": [
      "\u001b[1;31m---------------------------------------------------------------------------\u001b[0m",
      "\u001b[1;31mValueError\u001b[0m                                Traceback (most recent call last)",
      "\u001b[1;32m<ipython-input-98-4baa2fed100c>\u001b[0m in \u001b[0;36m<module>\u001b[1;34m()\u001b[0m\n\u001b[0;32m      9\u001b[0m         \u001b[0mcurrUser\u001b[0m \u001b[1;33m=\u001b[0m \u001b[0mint\u001b[0m\u001b[1;33m(\u001b[0m\u001b[0mcols\u001b[0m\u001b[1;33m[\u001b[0m\u001b[1;36m0\u001b[0m\u001b[1;33m]\u001b[0m\u001b[1;33m)\u001b[0m\u001b[1;33m\u001b[0m\u001b[0m\n\u001b[0;32m     10\u001b[0m         \u001b[0mcurrUItems\u001b[0m \u001b[1;33m=\u001b[0m \u001b[0mmap\u001b[0m\u001b[1;33m(\u001b[0m\u001b[0mint\u001b[0m\u001b[1;33m,\u001b[0m \u001b[0mcols\u001b[0m\u001b[1;33m[\u001b[0m\u001b[1;36m1\u001b[0m\u001b[1;33m]\u001b[0m\u001b[1;33m.\u001b[0m\u001b[0msplit\u001b[0m\u001b[1;33m(\u001b[0m\u001b[1;34m'-'\u001b[0m\u001b[1;33m)\u001b[0m\u001b[1;33m)\u001b[0m\u001b[1;33m\u001b[0m\u001b[0m\n\u001b[1;32m---> 11\u001b[1;33m         \u001b[0mcurrRat\u001b[0m \u001b[1;33m=\u001b[0m \u001b[0mfloat\u001b[0m\u001b[1;33m(\u001b[0m\u001b[0mcols\u001b[0m\u001b[1;33m[\u001b[0m\u001b[1;36m2\u001b[0m\u001b[1;33m]\u001b[0m\u001b[1;33m)\u001b[0m\u001b[1;33m\u001b[0m\u001b[0m\n\u001b[0m\u001b[0;32m     12\u001b[0m         \u001b[0mstrTs\u001b[0m \u001b[1;33m=\u001b[0m \u001b[0mcols\u001b[0m\u001b[1;33m[\u001b[0m\u001b[1;36m3\u001b[0m\u001b[1;33m]\u001b[0m\u001b[1;33m\u001b[0m\u001b[0m\n\u001b[0;32m     13\u001b[0m         currTs = datetime.datetime.strptime(strTs,\n",
      "\u001b[1;31mValueError\u001b[0m: invalid literal for float(): 1580-2105-2571-3039-105844"
     ]
    }
   ],
   "source": [
    "#order ratings for user in set by tstamp, then remove those users who rated set with less than one sec bw sets\n",
    "#read sorted file\n",
    "invalidUsers = []\n",
    "with open('db_set_ratings.csv', 'r') as f:\n",
    "    prevUser = None\n",
    "    uTStamps = []\n",
    "    for line in f:\n",
    "        cols = line.strip().split(',')\n",
    "        currUser = int(cols[0])\n",
    "        currUItems = map(int, cols[1].split('-'))\n",
    "        currRat = float(cols[2])\n",
    "        strTs = cols[3]\n",
    "        currTs = datetime.datetime.strptime(strTs,\n",
    "                     \"%Y-%m-%d %H:%M:%S\")\n",
    "        if prevUser is not None and prevUser != currUser:\n",
    "            #found new user, analyze current user\n",
    "            uTStamps.sort()\n",
    "            #check if consecutive ts difference < 1000ms\n",
    "            for i in range(len(uTStamps)-1):\n",
    "                ts1 = uTStamps[i]\n",
    "                ts2 = uTStamps[i+1]\n",
    "                diff = ts2 - ts1\n",
    "                diffSecs = diff.total_seconds()\n",
    "                if diffSecs < 1:\n",
    "                    invalidUsers.append(currUser)\n",
    "                    break\n",
    "            uTStamps = []\n",
    "        uTStamps.append(currTs)\n",
    "        prevUser = currUser\n",
    "    #analyze last user\n",
    "    uTStamps.sort()\n",
    "    #check if consecutive ts difference < 1000ms\n",
    "    for i in range(len(uTStamps)-1):\n",
    "        ts1 = uTStamps[i]\n",
    "        ts2 = uTStamps[i+1]\n",
    "        diff = ts2 - ts1\n",
    "        diffSecs = diff.total_seconds()\n",
    "        if diffSecs < 1:\n",
    "            invalidUsers.append(currUser)\n",
    "            break"
   ]
  },
  {
   "cell_type": "code",
   "execution_count": 64,
   "metadata": {
    "collapsed": false
   },
   "outputs": [
    {
     "data": {
      "text/plain": [
       "52"
      ]
     },
     "execution_count": 64,
     "metadata": {},
     "output_type": "execute_result"
    }
   ],
   "source": [
    "len(set(invalidUsers))"
   ]
  },
  {
   "cell_type": "code",
   "execution_count": 28,
   "metadata": {
    "collapsed": false
   },
   "outputs": [],
   "source": [
    "with open('ts1secUsers.txt', 'w') as g:\n",
    "    for invalU in invalidUsers:\n",
    "        g.write(str(invalU) + '\\n')"
   ]
  },
  {
   "cell_type": "code",
   "execution_count": 78,
   "metadata": {
    "collapsed": true
   },
   "outputs": [],
   "source": [
    "\n",
    "with open('db_set_ratings.csv', 'r') as f, \\\n",
    "    open('db_filt_set_ratings.csv', 'w') as g:\n",
    "        for line in f:\n",
    "            cols = line.strip().split(',')\n",
    "            user = int(cols[0])\n",
    "            if user in invalUSet:\n",
    "                continue\n",
    "            g.write(line)"
   ]
  },
  {
   "cell_type": "code",
   "execution_count": 94,
   "metadata": {
    "collapsed": false
   },
   "outputs": [],
   "source": [
    "#compute user average ratings of set\n",
    "uSetOrigRatings = []\n",
    "uSetAvgRatings  = []\n",
    "uSetMaxRatings  = []\n",
    "uSetMajRatings  = []\n",
    "notFoundUsers = set([])\n",
    "for user, itemsSetsNRat in uSetRatings.iteritems():\n",
    "    if user not in invalUSet:\n",
    "        for itemSetNRat in itemsSetsNRat:\n",
    "            items  = itemSetNRat[0]\n",
    "            setRat = itemSetNRat[1]\n",
    "            origRats = []\n",
    "            avgRat = 0.0\n",
    "            for item in items:\n",
    "                if item not in uiRatings[user]:\n",
    "                    notFoundUsers.add(user)\n",
    "                    break\n",
    "                avgRat += uiRatings[user][item]\n",
    "                origRats.append(uiRatings[user][item])\n",
    "            origRats.sort() \n",
    "            avgRat = avgRat/len(items)\n",
    "            uSetMajRatings.append((origRats[-1] + origRats[-2]) / 2)\n",
    "            uSetMaxRatings.append(max(origRats))\n",
    "            uSetOrigRatings.append(setRat)\n",
    "            uSetAvgRatings.append(avgRat)"
   ]
  },
  {
   "cell_type": "code",
   "execution_count": 77,
   "metadata": {
    "collapsed": false
   },
   "outputs": [],
   "source": [
    "invalUSet = invalUSet.union(notFoundUsers)"
   ]
  },
  {
   "cell_type": "code",
   "execution_count": 81,
   "metadata": {
    "collapsed": false
   },
   "outputs": [
    {
     "data": {
      "text/plain": [
       "0"
      ]
     },
     "execution_count": 81,
     "metadata": {},
     "output_type": "execute_result"
    }
   ],
   "source": [
    "len(notFoundUsers)"
   ]
  },
  {
   "cell_type": "code",
   "execution_count": 86,
   "metadata": {
    "collapsed": false
   },
   "outputs": [
    {
     "data": {
      "text/plain": [
       "<matplotlib.collections.PathCollection at 0x7f3fe57f5510>"
      ]
     },
     "execution_count": 86,
     "metadata": {},
     "output_type": "execute_result"
    },
    {
     "data": {
      "image/png": "[encoded data removed]",
      "text/plain": [
       "<matplotlib.figure.Figure at 0x7f3fe58d80d0>"
      ]
     },
     "metadata": {},
     "output_type": "display_data"
    }
   ],
   "source": [
    "plt.scatter(uSetOrigRatings, uSetAvgRatings)"
   ]
  },
  {
   "cell_type": "code",
   "execution_count": 95,
   "metadata": {
    "collapsed": false
   },
   "outputs": [
    {
     "data": {
      "text/plain": [
       "<matplotlib.collections.PathCollection at 0x7f3fe55e6110>"
      ]
     },
     "execution_count": 95,
     "metadata": {},
     "output_type": "execute_result"
    },
    {
     "data": {
      "image/png": "[encoded data removed]",
      "text/plain": [
       "<matplotlib.figure.Figure at 0x7f3fe5613090>"
      ]
     },
     "metadata": {},
     "output_type": "display_data"
    }
   ],
   "source": [
    "plt.scatter(uSetOrigRatings, uSetMajRatings)"
   ]
  },
  {
   "cell_type": "code",
   "execution_count": 96,
   "metadata": {
    "collapsed": false
   },
   "outputs": [
    {
     "data": {
      "text/plain": [
       "<matplotlib.collections.PathCollection at 0x7f3fe5516250>"
      ]
     },
     "execution_count": 96,
     "metadata": {},
     "output_type": "execute_result"
    },
    {
     "data": {
      "image/png": "[encoded data removed]",
      "text/plain": [
       "<matplotlib.figure.Figure at 0x7f3fe5598750>"
      ]
     },
     "metadata": {},
     "output_type": "display_data"
    }
   ],
   "source": [
    "plt.scatter(uSetOrigRatings, uSetMaxRatings)"
   ]
  },
  {
   "cell_type": "code",
   "execution_count": 42,
   "metadata": {
    "collapsed": false
   },
   "outputs": [
    {
     "data": {
      "text/plain": [
       "[928, 3578, 26965, 48516, 77846]"
      ]
     },
     "execution_count": 42,
     "metadata": {},
     "output_type": "execute_result"
    }
   ],
   "source": [
    "items"
   ]
  },
  {
   "cell_type": "code",
   "execution_count": 43,
   "metadata": {
    "collapsed": false
   },
   "outputs": [
    {
     "data": {
      "text/plain": [
       "4.5"
      ]
     },
     "execution_count": 43,
     "metadata": {},
     "output_type": "execute_result"
    }
   ],
   "source": [
    "setRat"
   ]
  },
  {
   "cell_type": "code",
   "execution_count": 139,
   "metadata": {
    "collapsed": false
   },
   "outputs": [
    {
     "data": {
      "text/plain": [
       "'\\nnSetRatings:  32312\\nnUsers:  925  nItems:  13226\\nno. of uIRatings:  533772\\nno. of invalid users by TS:  52\\nRatings not found for:  17\\nTotal invalid users:  67\\nNo. set ratings after filter:  29678\\n\\n#matrix properties\\nnrows:  856 ncols:  12572\\nAverage nnz cols:  37.6901845371\\nAverage nnz rows:  553.552570093\\nNNZ:  473841.0\\nSparsity:  0.0440305894125\\n\\nReading rating matrix 0 indexed...Reading...ml_set.train.lfs\\nNo. of UserSets: 851\\nNo. of sets: 27854\\nNo. of items: 12314\\nmax user: 855\\nmax item: 12571\\nNo. of train users: 851\\nnTrainSets: 27854\\nnTrainUsers: 851\\nnTrainItems: 12314\\n\\n'"
      ]
     },
     "execution_count": 139,
     "metadata": {},
     "output_type": "execute_result"
    }
   ],
   "source": [
    "\"\"\"\n",
    "nSetRatings:  32312\n",
    "nUsers:  925  nItems:  13226\n",
    "no. of uIRatings:  533772\n",
    "no. of invalid users by TS:  52\n",
    "Ratings not found for:  17\n",
    "Total invalid users:  67\n",
    "No. set ratings after filter:  29678\n",
    "\n",
    "#matrix properties\n",
    "nrows:  856 ncols:  12572\n",
    "Average nnz cols:  37.6901845371\n",
    "Average nnz rows:  553.552570093\n",
    "NNZ:  473841.0\n",
    "Sparsity:  0.0440305894125\n",
    "\n",
    "Reading rating matrix 0 indexed...Reading...ml_set.train.lfs\n",
    "No. of UserSets: 851\n",
    "No. of sets: 27854\n",
    "No. of items: 12314\n",
    "max user: 855\n",
    "max item: 12571\n",
    "No. of train users: 851\n",
    "nTrainSets: 27854\n",
    "nTrainUsers: 851\n",
    "nTrainItems: 12314\n",
    "\n",
    "\"\"\""
   ]
  },
  {
   "cell_type": "code",
   "execution_count": 150,
   "metadata": {
    "collapsed": false
   },
   "outputs": [
    {
     "name": "stdout",
     "output_type": "stream",
     "text": [
      "No. of sets:  29516\n",
      "No. of u-i ratings:  510032\n"
     ]
    }
   ],
   "source": [
    "uSetRatings = getSetRatings('db_filt_set_ratings.csv')\n",
    "uiRatings = getUIRatings('db_ui_ratings.csv')"
   ]
  },
  {
   "cell_type": "code",
   "execution_count": 110,
   "metadata": {
    "collapsed": true
   },
   "outputs": [],
   "source": [
    "itemSetCount = {}\n",
    "userSetCount = {}\n",
    "for user, setRatings in uSetRatings.iteritems():\n",
    "    if user not in userSetCount:\n",
    "        userSetCount[user] = 0\n",
    "    userSetCount[user] += len(setRatings)\n",
    "    for setRating in setRatings:\n",
    "        items = setRating[0]\n",
    "        for item in items:\n",
    "            if item not in itemSetCount:\n",
    "                itemSetCount[item] = 0\n",
    "            itemSetCount[item] += 1"
   ]
  },
  {
   "cell_type": "code",
   "execution_count": 116,
   "metadata": {
    "collapsed": false
   },
   "outputs": [
    {
     "data": {
      "text/plain": [
       "<matplotlib.text.Text at 0x7f4007b77dd0>"
      ]
     },
     "execution_count": 116,
     "metadata": {},
     "output_type": "execute_result"
    },
    {
     "data": {
      "image/png": "[encoded data removed]",
      "text/plain": [
       "<matplotlib.figure.Figure at 0x7f4007b52910>"
      ]
     },
     "metadata": {},
     "output_type": "display_data"
    }
   ],
   "source": [
    "plt.hist(userSetCount.values())\n",
    "plt.xlabel('No. of sets rated by user')\n",
    "plt.ylabel('No. of users')"
   ]
  },
  {
   "cell_type": "code",
   "execution_count": 120,
   "metadata": {
    "collapsed": false
   },
   "outputs": [
    {
     "data": {
      "text/plain": [
       "<matplotlib.text.Text at 0x7f3fe4bcac10>"
      ]
     },
     "execution_count": 120,
     "metadata": {},
     "output_type": "execute_result"
    },
    {
     "data": {
      "image/png": "[encoded data removed]",
      "text/plain": [
       "<matplotlib.figure.Figure at 0x7f40078e0e90>"
      ]
     },
     "metadata": {},
     "output_type": "display_data"
    }
   ],
   "source": [
    "plt.hist(itemSetCount.values(), range=(1,5))\n",
    "plt.xlabel('No. of sets containing item')\n",
    "plt.ylabel('No.of items')"
   ]
  },
  {
   "cell_type": "code",
   "execution_count": 121,
   "metadata": {
    "collapsed": false
   },
   "outputs": [
    {
     "data": {
      "text/plain": [
       "12598"
      ]
     },
     "execution_count": 121,
     "metadata": {},
     "output_type": "execute_result"
    }
   ],
   "source": [
    "len(itemSetCount)"
   ]
  },
  {
   "cell_type": "code",
   "execution_count": 122,
   "metadata": {
    "collapsed": false
   },
   "outputs": [
    {
     "data": {
      "text/plain": [
       "858"
      ]
     },
     "execution_count": 122,
     "metadata": {},
     "output_type": "execute_result"
    }
   ],
   "source": [
    "len(userSetCount)"
   ]
  },
  {
   "cell_type": "code",
   "execution_count": 126,
   "metadata": {
    "collapsed": false
   },
   "outputs": [
    {
     "data": {
      "text/plain": [
       "(array([4689,    0, 1766,    0,    0, 1007,    0,  627,    0,  481]),\n",
       " array([ 1. ,  1.4,  1.8,  2.2,  2.6,  3. ,  3.4,  3.8,  4.2,  4.6,  5. ]))"
      ]
     },
     "execution_count": 126,
     "metadata": {},
     "output_type": "execute_result"
    }
   ],
   "source": [
    "np.histogram(itemSetCount.values(), range=(1,5))"
   ]
  },
  {
   "cell_type": "code",
   "execution_count": 133,
   "metadata": {
    "collapsed": false
   },
   "outputs": [],
   "source": [
    "uSetRatings = getSetRatings('db_set_ratings.csv')"
   ]
  },
  {
   "cell_type": "code",
   "execution_count": 135,
   "metadata": {
    "collapsed": false
   },
   "outputs": [],
   "source": [
    "invalU = []\n",
    "with open('db_invalU_by_rat.txt', 'r') as f:\n",
    "    for line in f:\n",
    "        invalU.append(int(line.strip()))"
   ]
  },
  {
   "cell_type": "code",
   "execution_count": 161,
   "metadata": {
    "collapsed": false
   },
   "outputs": [
    {
     "name": "stdout",
     "output_type": "stream",
     "text": [
      "No. of sets:  29516\n",
      "No. of u-i ratings:  510032\n"
     ]
    }
   ],
   "source": [
    "uSetRatings = getSetRatings('db_filt_set_ratings.csv')\n",
    "uiRatings = getUIRatings('db_ui_ratings.csv')"
   ]
  },
  {
   "cell_type": "code",
   "execution_count": 597,
   "metadata": {
    "collapsed": true
   },
   "outputs": [],
   "source": [
    "def rmse(l1, l2):\n",
    "    a1 = np.asarray(l1)\n",
    "    a2 = np.asarray(l2)\n",
    "    n = len(l1)\n",
    "    return np.sqrt(np.sum(np.square(a1 - a2))/n)\n",
    "\n",
    "userOverPredCount  = {}\n",
    "userUnderPredCount = {}\n",
    "itemOverPredCount  = {}\n",
    "itemUnderPredCount = {}\n",
    "itemSetCount = {}\n",
    "\n",
    "uOvPredSetRatings = {}\n",
    "uUnderPredSetRatings = {}\n",
    "uNeitherPredSetRatings = {}\n",
    "\n",
    "def getUserSetsAvgRatings():\n",
    "    origSetRatings = []\n",
    "    origAvgSetRatings = []\n",
    "    overPredCount = 0\n",
    "    underPredcount = 0\n",
    "\n",
    "    nOvPredSets = 0\n",
    "    seOvPredSets = 0\n",
    "\n",
    "    nUnPredSets = 0\n",
    "    seUnPredSets = 0\n",
    "\n",
    "    nNeitherSets = 0\n",
    "    seNeitherSets = 0\n",
    "    \n",
    "    for user, itemsSetsNRat in uSetRatings.iteritems():\n",
    "        if user not in uiRatings:\n",
    "            print 'no ratings for ', user\n",
    "            continue\n",
    "        userOverPredCount[user]  = 0\n",
    "        userUnderPredCount[user] = 0\n",
    "        for itemSetNRat in itemsSetsNRat:\n",
    "            items  = itemSetNRat[0]\n",
    "            setRat = itemSetNRat[1]\n",
    "            avgRat = 0.0\n",
    "            for item in items:\n",
    "                if item not in itemOverPredCount:\n",
    "                    itemOverPredCount[item] = 0\n",
    "                if item not in itemUnderPredCount:\n",
    "                    itemUnderPredCount[item] = 0\n",
    "                if item not in itemSetCount:\n",
    "                    itemSetCount[item] = 0\n",
    "                if item not in uiRatings[user]:\n",
    "                    print 'Item: ', item, ' not found for user: ', user\n",
    "                avgRat += uiRatings[user][item]\n",
    "                itemSetCount[item] += 1\n",
    "            avgRat = avgRat / len(items)\n",
    "            \n",
    "            if avgRat > setRat + 0.5:\n",
    "                nOvPredSets += 1\n",
    "                seOvPredSets += (avgRat - setRat)*(avgRat - setRat)\n",
    "                if user not in uOvPredSetRatings:\n",
    "                    uOvPredSetRatings[user] = []\n",
    "                uOvPredSetRatings[user].append(itemSetNRat)\n",
    "                overPredCount += 1\n",
    "                userOverPredCount[user] += 1\n",
    "                for item in items:\n",
    "                    itemOverPredCount[item] += 1\n",
    "            elif avgRat < setRat - 0.5:\n",
    "                nUnPredSets += 1\n",
    "                seUnPredSets += (avgRat - setRat)*(avgRat - setRat)\n",
    "                if user not in uUnderPredSetRatings:\n",
    "                    uUnderPredSetRatings[user] = []\n",
    "                uUnderPredSetRatings[user].append(itemSetNRat)\n",
    "                underPredcount += 1\n",
    "                userUnderPredCount[user] += 1\n",
    "                for item in items:\n",
    "                    itemUnderPredCount[item] += 1\n",
    "            else:\n",
    "                nNeitherSets += 1\n",
    "                seNeitherSets += (avgRat - setRat)*(avgRat - setRat)\n",
    "                if user not in uNeitherPredSetRatings:\n",
    "                    uNeitherPredSetRatings[user] = []\n",
    "                uNeitherPredSetRatings[user].append(itemSetNRat)\n",
    "                \n",
    "            origSetRatings.append(setRat)\n",
    "            origAvgSetRatings.append(avgRat)\n",
    "    hexbin(origSetRatings, origAvgSetRatings, 'set ratings', 'average ratings')\n",
    "    print 'rmse: ', rmse(origSetRatings, origAvgSetRatings)\n",
    "    \n",
    "    print 'nOvPredSets: ', nOvPredSets, ' ovPredRMSE: ', np.sqrt(seOvPredSets/nOvPredSets)\n",
    "    print 'nUnPredSets: ', nUnPredSets, ' unPredRMSE: ', np.sqrt(seUnPredSets/nUnPredSets)\n",
    "    print 'nNeitherSets: ', nNeitherSets, ' neitherSetsRMSE: ', np.sqrt(seNeitherSets/nNeitherSets)\n",
    "    \n",
    "    print 'overPredCount: ', overPredCount\n",
    "    print 'underPredCount: ', underPredcount\n",
    "    return (origSetRatings, origAvgSetRatings)"
   ]
  },
  {
   "cell_type": "code",
   "execution_count": 599,
   "metadata": {
    "collapsed": false
   },
   "outputs": [
    {
     "name": "stdout",
     "output_type": "stream",
     "text": [
      "rmse:  0.597961482605\n",
      "nOvPredSets:  5251  ovPredRMSE:  1.04726975886\n",
      "nUnPredSets:  3934  unPredRMSE:  0.888905234838\n",
      "nNeitherSets:  20331  neitherSetsRMSE:  0.287976561931\n",
      "overPredCount:  5251\n",
      "underPredCount:  3934\n"
     ]
    },
    {
     "data": {
      "image/png": "[encoded data removed]",
      "text/plain": [
       "<matplotlib.figure.Figure at 0x7f3fe3695890>"
      ]
     },
     "metadata": {},
     "output_type": "display_data"
    }
   ],
   "source": [
    "(origSetRatingsA, origAvgSetRatings) = getUserSetsAvgRatings()"
   ]
  },
  {
   "cell_type": "code",
   "execution_count": 332,
   "metadata": {
    "collapsed": false
   },
   "outputs": [],
   "source": [
    "def getUserSetsMajRatings():\n",
    "    origSetRatings = []\n",
    "    origMajSetRatings = []\n",
    "    for user, itemsSetsNRat in uSetRatings.iteritems():\n",
    "        if user not in uiRatings:\n",
    "            print 'no ratings for ', user\n",
    "            continue\n",
    "        for itemSetNRat in itemsSetsNRat:\n",
    "            items  = itemSetNRat[0]\n",
    "            setRat = itemSetNRat[1]\n",
    "            majRat = 0.0\n",
    "            itemRatings = []\n",
    "            for item in items:\n",
    "                if item not in uiRatings[user]:\n",
    "                    print 'Item: ', item, ' not found for user: ', user\n",
    "                itemRatings.append((uiRatings[user][item], item))\n",
    "            itemRatings.sort(reverse=True)\n",
    "            for itemRating in itemRatings[:3]:\n",
    "                item = itemRating[1]\n",
    "                rating = itemRating[0]\n",
    "                majRat += rating\n",
    "            majRat = majRat/3\n",
    "            origSetRatings.append(setRat)\n",
    "            origMajSetRatings.append(majRat)\n",
    "    hexbin(origSetRatings, origMajSetRatings, 'set ratings', 'Top 50pc average ratings')\n",
    "    print 'rmse: ', rmse(origSetRatings, origMajSetRatings)\n",
    "    return (origSetRatings, origMajSetRatings)"
   ]
  },
  {
   "cell_type": "code",
   "execution_count": 333,
   "metadata": {
    "collapsed": false
   },
   "outputs": [
    {
     "name": "stdout",
     "output_type": "stream",
     "text": [
      "rmse:  0.8268938532\n"
     ]
    },
    {
     "data": {
      "image/png": "[encoded data removed]",
      "text/plain": [
       "<matplotlib.figure.Figure at 0x7f401c415fd0>"
      ]
     },
     "metadata": {},
     "output_type": "display_data"
    }
   ],
   "source": [
    "(origSetRatingsM, origMajSetRatings) = getUserSetsMajRatings()"
   ]
  },
  {
   "cell_type": "code",
   "execution_count": 334,
   "metadata": {
    "collapsed": false
   },
   "outputs": [],
   "source": [
    "def getUserSetsMaxRatings():\n",
    "    origSetRatings = []\n",
    "    origMaxSetRatings = []\n",
    "    for user, itemsSetsNRat in uSetRatings.iteritems():\n",
    "        if user not in uiRatings:\n",
    "            print 'no ratings for ', user\n",
    "            continue\n",
    "        for itemSetNRat in itemsSetsNRat:\n",
    "            items  = itemSetNRat[0]\n",
    "            setRat = itemSetNRat[1]\n",
    "            maxRat = 0.0\n",
    "            itemRatings = []\n",
    "            for item in items:\n",
    "                if item not in uiRatings[user]:\n",
    "                    print 'Item: ', item, ' not found for user: ', user\n",
    "                itemRatings.append((uiRatings[user][item], item))\n",
    "            itemRatings.sort(reverse=True)\n",
    "            maxRat = itemRatings[0][0]\n",
    "            origSetRatings.append(setRat)\n",
    "            origMaxSetRatings.append(maxRat)\n",
    "    hexbin(origSetRatings, origMaxSetRatings, 'set ratings', 'maximum rating')\n",
    "    print 'rmse: ', rmse(origSetRatings, origMaxSetRatings)\n",
    "    return (origSetRatings, origMaxSetRatings)"
   ]
  },
  {
   "cell_type": "code",
   "execution_count": 335,
   "metadata": {
    "collapsed": false
   },
   "outputs": [
    {
     "name": "stdout",
     "output_type": "stream",
     "text": [
      "rmse:  1.19580298365\n"
     ]
    },
    {
     "data": {
      "image/png": "[encoded data removed]",
      "text/plain": [
       "<matplotlib.figure.Figure at 0x7f3fe2a98690>"
      ]
     },
     "metadata": {},
     "output_type": "display_data"
    }
   ],
   "source": [
    "(origSetRatingsMx, origMaxSetRatings) = getUserSetsMaxRatings()"
   ]
  },
  {
   "cell_type": "code",
   "execution_count": null,
   "metadata": {
    "collapsed": false
   },
   "outputs": [],
   "source": []
  },
  {
   "cell_type": "code",
   "execution_count": 364,
   "metadata": {
    "collapsed": false
   },
   "outputs": [],
   "source": [
    "\n",
    "def hexbin(x, y, xlabel, ylabel, label='count'):\n",
    "    plt.hexbin(x, y, gridsize=10, cmap=cm.jet, bins=None)\n",
    "    plt.axis([0.5, 5, 0.5, 5])\n",
    "    cb = plt.colorbar()\n",
    "    cb.set_label(label)\n",
    "    plt.xlabel(xlabel)\n",
    "    plt.ylabel(ylabel);"
   ]
  },
  {
   "cell_type": "code",
   "execution_count": null,
   "metadata": {
    "collapsed": false
   },
   "outputs": [],
   "source": []
  },
  {
   "cell_type": "code",
   "execution_count": 336,
   "metadata": {
    "collapsed": true
   },
   "outputs": [],
   "source": [
    "def getUserSetsMinRatings():\n",
    "    origSetRatings = []\n",
    "    origMinSetRatings = []\n",
    "    for user, itemsSetsNRat in uSetRatings.iteritems():\n",
    "        if user not in uiRatings:\n",
    "            print 'no ratings for ', user\n",
    "            continue\n",
    "        for itemSetNRat in itemsSetsNRat:\n",
    "            items  = itemSetNRat[0]\n",
    "            setRat = itemSetNRat[1]\n",
    "            minRat = 0.0\n",
    "            itemRatings = []\n",
    "            for item in items:\n",
    "                if item not in uiRatings[user]:\n",
    "                    print 'Item: ', item, ' not found for user: ', user\n",
    "                itemRatings.append((uiRatings[user][item], item))\n",
    "            itemRatings.sort()\n",
    "            minRat = itemRatings[0][0]\n",
    "            if (minRat < 0):\n",
    "                print 'less than 0'\n",
    "            origSetRatings.append(setRat)\n",
    "            origMinSetRatings.append(minRat)\n",
    "    hexbin(origSetRatings, origMinSetRatings, 'set ratings', 'minimum rating')\n",
    "    print 'rmse: ', rmse(origSetRatings, origMinSetRatings)\n",
    "    return (origSetRatings, origMinSetRatings)"
   ]
  },
  {
   "cell_type": "code",
   "execution_count": 337,
   "metadata": {
    "collapsed": false
   },
   "outputs": [
    {
     "name": "stdout",
     "output_type": "stream",
     "text": [
      "rmse:  1.32053980737\n"
     ]
    },
    {
     "data": {
      "image/png": "[encoded data removed]",
      "text/plain": [
       "<matplotlib.figure.Figure at 0x7f3fe2a98510>"
      ]
     },
     "metadata": {},
     "output_type": "display_data"
    }
   ],
   "source": [
    "(origSetRatingsMn, origMinSetRatings) = getUserSetsMinRatings()"
   ]
  },
  {
   "cell_type": "code",
   "execution_count": 347,
   "metadata": {
    "collapsed": false
   },
   "outputs": [],
   "source": [
    "setRatings = []\n",
    "for user, setNRatings in uSetRatings.iteritems():\n",
    "    for setRating in setNRatings:\n",
    "        setRatings.append(setRating[1])"
   ]
  },
  {
   "cell_type": "code",
   "execution_count": 257,
   "metadata": {
    "collapsed": false
   },
   "outputs": [
    {
     "data": {
      "text/plain": [
       "<matplotlib.text.Text at 0x7f3fe3422b90>"
      ]
     },
     "execution_count": 257,
     "metadata": {},
     "output_type": "execute_result"
    },
    {
     "data": {
      "image/png": "[encoded data removed]",
      "text/plain": [
       "<matplotlib.figure.Figure at 0x7f3fe36d42d0>"
      ]
     },
     "metadata": {},
     "output_type": "display_data"
    }
   ],
   "source": [
    "plt.hist(setRatings)\n",
    "plt.xlabel('set ratings')\n",
    "plt.ylabel('no. of sets')"
   ]
  },
  {
   "cell_type": "code",
   "execution_count": 348,
   "metadata": {
    "collapsed": false
   },
   "outputs": [
    {
     "data": {
      "text/plain": [
       "(29516, 854)"
      ]
     },
     "execution_count": 348,
     "metadata": {},
     "output_type": "execute_result"
    }
   ],
   "source": [
    "len(setRatings), len(uSetRatings)"
   ]
  },
  {
   "cell_type": "code",
   "execution_count": 344,
   "metadata": {
    "collapsed": false
   },
   "outputs": [],
   "source": [
    "def getUserSetsSigmRatings():\n",
    "    origSetSigmRatings = []\n",
    "    avgSigmRatings = []\n",
    "    for user, itemsSetsNRat in uSetRatings.iteritems():\n",
    "        if user not in uiRatings:\n",
    "            print 'no ratings for ', user\n",
    "            continue\n",
    "        uAvgRat = 0.0\n",
    "        uRatcount = 0.0\n",
    "        for item, rating in uiRatings[user].iteritems():\n",
    "            uAvgRat += rating\n",
    "            uRatcount += 1\n",
    "        uAvgRat = uAvgRat / uRatcount\n",
    "        uAvgRat = 3\n",
    "        for itemSetNRat in itemsSetsNRat:\n",
    "            items  = itemSetNRat[0]\n",
    "            setRat = itemSetNRat[1]\n",
    "            avgRat = 0.0\n",
    "            itemRatings = []\n",
    "            for item in items:\n",
    "                if item not in uiRatings[user]:\n",
    "                    print 'Item: ', item, ' not found for user: ', user\n",
    "                avgRat += uiRatings[user][item]\n",
    "            avgRat = avgRat/len(items)\n",
    "            origSetSigmRatings.append(float(setRat)/5)\n",
    "            avgSigmRatings.append(1.0/(1 + np.exp(-1.0*(avgRat - uAvgRat))))\n",
    "    hexbin(origSetSigmRatings, avgSigmRatings, 'set scaled ratings', 'sigmoid rating with shift of 3')\n",
    "    print 'rmse: ', rmse(origSetSigmRatings, avgSigmRatings)\n",
    "    return (origSetSigmRatings, avgSigmRatings)"
   ]
  },
  {
   "cell_type": "code",
   "execution_count": 339,
   "metadata": {
    "collapsed": false
   },
   "outputs": [
    {
     "name": "stdout",
     "output_type": "stream",
     "text": [
      "rmse:  0.141977907805\n"
     ]
    },
    {
     "data": {
      "image/png": "[encoded data removed]",
      "text/plain": [
       "<matplotlib.figure.Figure at 0x7f3fe2f27090>"
      ]
     },
     "metadata": {},
     "output_type": "display_data"
    }
   ],
   "source": [
    "(origSetSigmRatings, avgSigmRatings) = getUserSetsSigmRatings()"
   ]
  },
  {
   "cell_type": "code",
   "execution_count": 345,
   "metadata": {
    "collapsed": false
   },
   "outputs": [
    {
     "name": "stdout",
     "output_type": "stream",
     "text": [
      "rmse:  0.236691299059\n"
     ]
    },
    {
     "data": {
      "image/png": "[encoded data removed]",
      "text/plain": [
       "<matplotlib.figure.Figure at 0x7f3fe2f8b250>"
      ]
     },
     "metadata": {},
     "output_type": "display_data"
    }
   ],
   "source": [
    "(origSetSigmRatings, avgSigmRatings) = getUserSetsSigmRatings()"
   ]
  },
  {
   "cell_type": "code",
   "execution_count": 301,
   "metadata": {
    "collapsed": true
   },
   "outputs": [],
   "source": [
    "ratings = []\n",
    "for user, itemRatings in uiRatings.iteritems():\n",
    "    for item, rating in itemRatings.iteritems():\n",
    "        ratings.append(rating)"
   ]
  },
  {
   "cell_type": "code",
   "execution_count": 304,
   "metadata": {
    "collapsed": false
   },
   "outputs": [
    {
     "data": {
      "text/plain": [
       "<matplotlib.text.Text at 0x7f3fe3831a10>"
      ]
     },
     "execution_count": 304,
     "metadata": {},
     "output_type": "execute_result"
    },
    {
     "data": {
      "image/png": "[encoded data removed]",
      "text/plain": [
       "<matplotlib.figure.Figure at 0x7f3fe3ce4310>"
      ]
     },
     "metadata": {},
     "output_type": "display_data"
    }
   ],
   "source": [
    "plt.hist(ratings)\n",
    "plt.xlabel('movie rating')\n",
    "plt.ylabel('count')"
   ]
  },
  {
   "cell_type": "code",
   "execution_count": 305,
   "metadata": {
    "collapsed": true
   },
   "outputs": [],
   "source": [
    "ratingCountFrmSets = {}\n",
    "for user, setRatings in uSetRatings.iteritems():\n",
    "    for setRating in setRatings:\n",
    "        items = setRating[0]\n",
    "        for item in items:\n",
    "            rating = uiRatings[user][item]\n",
    "            if rating not in ratingCountFrmSets:\n",
    "                ratingCountFrmSets[rating] = 0\n",
    "            ratingCountFrmSets[rating] += 1"
   ]
  },
  {
   "cell_type": "code",
   "execution_count": 306,
   "metadata": {
    "collapsed": false
   },
   "outputs": [
    {
     "data": {
      "text/plain": [
       "{0.5: 2653,\n",
       " 1.0: 2981,\n",
       " 1.5: 3151,\n",
       " 2.0: 8060,\n",
       " 2.5: 10354,\n",
       " 3.0: 24570,\n",
       " 3.5: 26866,\n",
       " 4.0: 37186,\n",
       " 4.5: 17091,\n",
       " 5.0: 14668}"
      ]
     },
     "execution_count": 306,
     "metadata": {},
     "output_type": "execute_result"
    }
   ],
   "source": [
    "ratingCountFrmSets"
   ]
  },
  {
   "cell_type": "code",
   "execution_count": 310,
   "metadata": {
    "collapsed": false
   },
   "outputs": [],
   "source": [
    "x = ratingCountFrmSets.keys()\n",
    "x.sort()\n",
    "y = [ratingCountFrmSets[k] for k in x]"
   ]
  },
  {
   "cell_type": "code",
   "execution_count": 311,
   "metadata": {
    "collapsed": false
   },
   "outputs": [
    {
     "data": {
      "text/plain": [
       "([0.5, 1.0, 1.5, 2.0, 2.5, 3.0, 3.5, 4.0, 4.5, 5.0],\n",
       " [2653, 2981, 3151, 8060, 10354, 24570, 26866, 37186, 17091, 14668])"
      ]
     },
     "execution_count": 311,
     "metadata": {},
     "output_type": "execute_result"
    }
   ],
   "source": [
    "x,y"
   ]
  },
  {
   "cell_type": "code",
   "execution_count": 350,
   "metadata": {
    "collapsed": false
   },
   "outputs": [
    {
     "data": {
      "text/plain": [
       "<matplotlib.text.Text at 0x7f3fe2601b50>"
      ]
     },
     "execution_count": 350,
     "metadata": {},
     "output_type": "execute_result"
    },
    {
     "data": {
      "image/png": "[encoded data removed]",
      "text/plain": [
       "<matplotlib.figure.Figure at 0x7f3fe2598950>"
      ]
     },
     "metadata": {},
     "output_type": "display_data"
    }
   ],
   "source": [
    "plt.bar(range(len(y)),y)\n",
    "x_ticks = range(10)\n",
    "for i in range(len(x_ticks)):\n",
    "    x_ticks[i] = x_ticks[i] + 0.5\n",
    "plt.xticks(x_ticks, (0.5, 1.0, 1.5, 2.0, 2.5, 3.0, 3.5, 4.0, 4.5, 5.0))\n",
    "plt.xlabel('rating')\n",
    "plt.ylabel('no. of times movie rating occured in sets')"
   ]
  },
  {
   "cell_type": "code",
   "execution_count": 328,
   "metadata": {
    "collapsed": true
   },
   "outputs": [],
   "source": [
    "def compAvgRMSE():\n",
    "    rmse = 0.0\n",
    "    nSets = 0.0\n",
    "    for user, setRatings in uSetRatings.iteritems():\n",
    "        for setRating in setRatings:\n",
    "            items = setRating[0]\n",
    "            rating = setRating[1]\n",
    "            avgRating = 0.0\n",
    "            for item in items:\n",
    "                avgRating += uiRatings[user][item]\n",
    "            avgRating = avgRating/len(items)\n",
    "            diff = rating - avgRating\n",
    "            rmse += diff*diff\n",
    "            nSets += 1\n",
    "    print rmse, nSets\n",
    "    rmse = np.sqrt(rmse/nSets)\n",
    "    return rmse"
   ]
  },
  {
   "cell_type": "code",
   "execution_count": 329,
   "metadata": {
    "collapsed": false
   },
   "outputs": [
    {
     "name": "stdout",
     "output_type": "stream",
     "text": [
      "10553.68 29516.0\n"
     ]
    },
    {
     "data": {
      "text/plain": [
       "0.59796148260530402"
      ]
     },
     "execution_count": 329,
     "metadata": {},
     "output_type": "execute_result"
    }
   ],
   "source": [
    "compAvgRMSE()"
   ]
  },
  {
   "cell_type": "code",
   "execution_count": 351,
   "metadata": {
    "collapsed": true
   },
   "outputs": [],
   "source": [
    "def getUserSetsMinRatings():\n",
    "    origSetRatings = []\n",
    "    origMinSetRatings = []\n",
    "    for user, itemsSetsNRat in uSetRatings.iteritems():\n",
    "        if user not in uiRatings:\n",
    "            print 'no ratings for ', user\n",
    "            continue\n",
    "        for itemSetNRat in itemsSetsNRat:\n",
    "            items  = itemSetNRat[0]\n",
    "            setRat = itemSetNRat[1]\n",
    "            minRat = 0.0\n",
    "            itemRatings = []\n",
    "            for item in items:\n",
    "                if item not in uiRatings[user]:\n",
    "                    print 'Item: ', item, ' not found for user: ', user\n",
    "                itemRatings.append((uiRatings[user][item], item))\n",
    "            itemRatings.sort()\n",
    "            for itemRating in itemRatings[:3]:\n",
    "                item = itemRating[1]\n",
    "                rating = itemRating[0]\n",
    "                minRat += rating\n",
    "            minRat = minRat/3\n",
    "            origSetRatings.append(setRat)\n",
    "            origMinSetRatings.append(minRat)\n",
    "    hexbin(origSetRatings, origMinSetRatings, 'set ratings', 'bottom 50pc average ratings')\n",
    "    print 'rmse: ', rmse(origSetRatings, origMinSetRatings)\n",
    "    return (origSetRatings, origMinSetRatings)"
   ]
  },
  {
   "cell_type": "code",
   "execution_count": 353,
   "metadata": {
    "collapsed": false
   },
   "outputs": [
    {
     "name": "stdout",
     "output_type": "stream",
     "text": [
      "rmse:  0.759282128632\n"
     ]
    },
    {
     "data": {
      "image/png": "[encoded data removed]",
      "text/plain": [
       "<matplotlib.figure.Figure at 0x7f3fe2598750>"
      ]
     },
     "metadata": {},
     "output_type": "display_data"
    }
   ],
   "source": [
    "(origSetRatingsm, origMinSetRatings) = getUserSetsMinRatings()"
   ]
  },
  {
   "cell_type": "code",
   "execution_count": 367,
   "metadata": {
    "collapsed": false
   },
   "outputs": [
    {
     "name": "stdout",
     "output_type": "stream",
     "text": [
      "avgUIRating:  3.4018483154\n"
     ]
    }
   ],
   "source": [
    "avgUIRating = 0\n",
    "nnz = 0\n",
    "for user, itemRatings in uiRatings.iteritems():\n",
    "    avgUIRating += np.sum(itemRatings.values())\n",
    "    nnz += len(itemRatings)\n",
    "avgUIRating = avgUIRating/nnz\n",
    "print 'avgUIRating: ', avgUIRating"
   ]
  },
  {
   "cell_type": "code",
   "execution_count": 368,
   "metadata": {
    "collapsed": false
   },
   "outputs": [
    {
     "name": "stdout",
     "output_type": "stream",
     "text": [
      "avgSetRating:  3.44895988616\n"
     ]
    }
   ],
   "source": [
    "avgSetRating = 0\n",
    "nSets = 0\n",
    "for user, setRatings in uSetRatings.iteritems():\n",
    "    for setRating in setRatings:\n",
    "        avgSetRating += setRating[1]\n",
    "        nSets += 1\n",
    "avgSetRating = avgSetRating/nSets\n",
    "print 'avgSetRating: ', avgSetRating"
   ]
  },
  {
   "cell_type": "code",
   "execution_count": 389,
   "metadata": {
    "collapsed": false
   },
   "outputs": [
    {
     "data": {
      "text/plain": [
       "854"
      ]
     },
     "execution_count": 389,
     "metadata": {},
     "output_type": "execute_result"
    }
   ],
   "source": [
    "len(userOverPredCount)"
   ]
  },
  {
   "cell_type": "code",
   "execution_count": 535,
   "metadata": {
    "collapsed": false
   },
   "outputs": [
    {
     "data": {
      "text/plain": [
       "<matplotlib.text.Text at 0x7f3fe1bfa190>"
      ]
     },
     "execution_count": 535,
     "metadata": {},
     "output_type": "execute_result"
    },
    {
     "data": {
      "image/png": "[encoded data removed]",
      "text/plain": [
       "<matplotlib.figure.Figure at 0x7f3fe1cb6dd0>"
      ]
     },
     "metadata": {},
     "output_type": "display_data"
    }
   ],
   "source": [
    "plt.hist(userUnderPredCount.values());\n",
    "plt.xlabel('no. of sets under predicted')\n",
    "plt.ylabel('no. of users')\n",
    "plt.title('user under-prediction on sets')"
   ]
  },
  {
   "cell_type": "code",
   "execution_count": 537,
   "metadata": {
    "collapsed": false
   },
   "outputs": [
    {
     "data": {
      "text/plain": [
       "(0, 600)"
      ]
     },
     "execution_count": 537,
     "metadata": {},
     "output_type": "execute_result"
    },
    {
     "data": {
      "image/png": "[encoded data removed]",
      "text/plain": [
       "<matplotlib.figure.Figure at 0x7f3fe1ae0c90>"
      ]
     },
     "metadata": {},
     "output_type": "display_data"
    }
   ],
   "source": [
    "plt.hist(userOverPredCount.values());\n",
    "plt.xlabel('no. of sets over predicted')\n",
    "plt.ylabel('no. of users')\n",
    "plt.title('user over-prediction on sets')\n",
    "plt.ylim((0,600))"
   ]
  },
  {
   "cell_type": "code",
   "execution_count": 400,
   "metadata": {
    "collapsed": false
   },
   "outputs": [
    {
     "data": {
      "text/plain": [
       "5251"
      ]
     },
     "execution_count": 400,
     "metadata": {},
     "output_type": "execute_result"
    }
   ],
   "source": [
    "sum(userOverPredCount.values())"
   ]
  },
  {
   "cell_type": "code",
   "execution_count": 401,
   "metadata": {
    "collapsed": false
   },
   "outputs": [
    {
     "data": {
      "text/plain": [
       "3934"
      ]
     },
     "execution_count": 401,
     "metadata": {},
     "output_type": "execute_result"
    }
   ],
   "source": [
    "sum(userUnderPredCount.values())"
   ]
  },
  {
   "cell_type": "code",
   "execution_count": 540,
   "metadata": {
    "collapsed": false
   },
   "outputs": [
    {
     "data": {
      "text/plain": [
       "<matplotlib.text.Text at 0x7f3fe18802d0>"
      ]
     },
     "execution_count": 540,
     "metadata": {},
     "output_type": "execute_result"
    },
    {
     "data": {
      "image/png": "[encoded data removed]",
      "text/plain": [
       "<matplotlib.figure.Figure at 0x7f3fe19e1810>"
      ]
     },
     "metadata": {},
     "output_type": "display_data"
    }
   ],
   "source": [
    "plt.hist(itemOverPredCount.values());\n",
    "plt.xlabel('no. of sets over predicted')\n",
    "plt.ylabel('no. of items')"
   ]
  },
  {
   "cell_type": "code",
   "execution_count": 541,
   "metadata": {
    "collapsed": false
   },
   "outputs": [
    {
     "data": {
      "text/plain": [
       "<matplotlib.text.Text at 0x7f3fe19c0510>"
      ]
     },
     "execution_count": 541,
     "metadata": {},
     "output_type": "execute_result"
    },
    {
     "data": {
      "image/png": "[encoded data removed]",
      "text/plain": [
       "<matplotlib.figure.Figure at 0x7f3fe1cc0410>"
      ]
     },
     "metadata": {},
     "output_type": "display_data"
    }
   ],
   "source": [
    "plt.hist(itemUnderPredCount.values());\n",
    "plt.xlabel('no. of sets under predicted')\n",
    "plt.ylabel('no. of items')"
   ]
  },
  {
   "cell_type": "code",
   "execution_count": 513,
   "metadata": {
    "collapsed": false
   },
   "outputs": [
    {
     "data": {
      "text/plain": [
       "(26255, 19670)"
      ]
     },
     "execution_count": 513,
     "metadata": {},
     "output_type": "execute_result"
    }
   ],
   "source": [
    "sum(itemOverPredCount.values()), sum(itemUnderPredCount.values())"
   ]
  },
  {
   "cell_type": "code",
   "execution_count": 419,
   "metadata": {
    "collapsed": false
   },
   "outputs": [
    {
     "data": {
      "text/plain": [
       "[([55232, 67408, 72731, 111921, 117192], 4.0),\n",
       " ([2076, 37729, 44191, 56715, 86504], 3.0),\n",
       " ([7147, 8950, 38038, 58025, 78349], 4.0),\n",
       " ([5316, 32213, 48394, 60674, 64969], 2.5),\n",
       " ([745, 2010, 73017, 122904, 134130], 2.5),\n",
       " ([6754, 7438, 48997, 57274, 71135], 3.0),\n",
       " ([2193, 4226, 48045, 106782, 131050], 1.5),\n",
       " ([4367, 4389, 33004, 57640, 115617], 4.0),\n",
       " ([1527, 6350, 27619, 115713, 122896], 2.5),\n",
       " ([32898, 53000, 91974, 107737, 112515], 4.0),\n",
       " ([480, 8965, 94864, 107406, 122886], 2.0),\n",
       " ([6373, 8874, 26662, 83132, 90647], 1.5),\n",
       " ([4848, 5219, 71252, 81834, 108932], 1.5),\n",
       " ([2571, 2710, 6662, 42718, 63113], 3.0),\n",
       " ([2232, 59900, 64614, 72378, 109848], 3.0),\n",
       " ([1676, 3949, 6975, 45499, 151735], 4.5),\n",
       " ([42738, 59315, 64993, 71057, 107130], 4.0),\n",
       " ([593, 4886, 8973, 63859, 134853], 1.5),\n",
       " ([3168, 4993, 27478, 96655, 111360], 3.0),\n",
       " ([720, 3499, 3967, 4896, 69526], 4.0),\n",
       " ([1367, 1748, 32840, 59022, 59369], 3.0),\n",
       " ([1653, 3147, 5882, 51077, 69644], 3.0),\n",
       " ([1175, 4388, 81562, 103249, 116415], 4.0),\n",
       " ([6888, 8368, 51925, 67799, 91500], 3.5),\n",
       " ([1544, 6377, 66097, 70286, 81591], 4.5),\n",
       " ([293, 6502, 6539, 33679, 55247], 2.0),\n",
       " ([924, 3751, 43679, 55995, 56367], 3.5),\n",
       " ([5618, 6365, 49396, 72701, 116823], 4.0),\n",
       " ([1732, 7439, 48943, 85736, 133771], 3.0),\n",
       " ([316, 2617, 3081, 44759, 60072], 3.5),\n",
       " ([7373, 7454, 8636, 47997, 56251], 2.5),\n",
       " ([7153, 8807, 26258, 44022, 82461], 1.5),\n",
       " ([2959, 5349, 41566, 48744, 98491], 3.5),\n",
       " ([1206, 5903, 50923, 56339, 93422], 5.0),\n",
       " ([29, 6934, 60074, 71205, 79879], 3.5),\n",
       " ([7254, 52722, 63876, 67923, 71535], 2.0),\n",
       " ([2105, 47610, 51086, 70159, 149322], 1.5),\n",
       " ([44694, 49824, 63082, 79274, 116797], 0.5),\n",
       " ([6383, 46972, 60161, 69275, 84312], 2.0),\n",
       " ([6333, 59784, 106489, 112556, 149406], 1.0),\n",
       " ([2761, 6016, 44974, 54272, 68932], 4.5),\n",
       " ([6773, 56171, 68954, 96610, 104841], 1.5),\n",
       " ([919, 3676, 48304, 62376, 99114], 3.0),\n",
       " ([551, 45186, 53996, 60408, 94810], 1.0),\n",
       " ([8861, 8961, 26242, 57910, 72407], 2.5),\n",
       " ([1682, 4223, 63992, 85412, 98809], 0.5),\n",
       " ([1562, 1590, 7034, 27850, 65682], 3.0),\n",
       " ([5419, 5481, 6281, 106487, 114180], 0.5),\n",
       " ([34, 27482, 58301, 69529, 74458], 2.5),\n",
       " ([5952, 7099, 8605, 71379, 72998], 0.5)]"
      ]
     },
     "execution_count": 419,
     "metadata": {},
     "output_type": "execute_result"
    }
   ],
   "source": [
    "uSetRatings[276534]"
   ]
  },
  {
   "cell_type": "code",
   "execution_count": 432,
   "metadata": {
    "collapsed": false
   },
   "outputs": [],
   "source": [
    "def avgSetRat(user, items):\n",
    "    rat = 0.0\n",
    "    for item in items:\n",
    "        rat += uiRatings[user][item]\n",
    "    rat = rat/len(items)\n",
    "    return rat"
   ]
  },
  {
   "cell_type": "code",
   "execution_count": 447,
   "metadata": {
    "collapsed": false
   },
   "outputs": [],
   "source": [
    "def invOverPredSets(user):\n",
    "    setRatings = uSetRatings[user]\n",
    "    for setRating in setRatings:\n",
    "        items = setRating[0]\n",
    "        rating = setRating[1]\n",
    "        predSetRat = avgSetRat(user, items)\n",
    "        if abs(predSetRat - rating) > 2:\n",
    "            s = ''\n",
    "            for item in items:\n",
    "                s += str(item) + ':' + str(uiRatings[user][item]) + ' '\n",
    "            print rating, predSetRat, s\n",
    "                "
   ]
  },
  {
   "cell_type": "code",
   "execution_count": 448,
   "metadata": {
    "collapsed": false
   },
   "outputs": [
    {
     "name": "stdout",
     "output_type": "stream",
     "text": [
      "2.5 4.6 5316:4.0 32213:5.0 48394:4.5 60674:5.0 64969:4.5 \n",
      "2.5 4.6 745:5.0 2010:5.0 73017:4.5 122904:4.5 134130:4.0 \n",
      "1.5 4.8 2193:5.0 4226:5.0 48045:5.0 106782:4.0 131050:5.0 \n",
      "2.0 4.3 480:4.5 8965:4.5 94864:5.0 107406:3.5 122886:4.0 \n",
      "1.5 4.5 6373:3.5 8874:5.0 26662:5.0 83132:5.0 90647:4.0 \n",
      "1.5 4.3 4848:5.0 5219:5.0 71252:3.5 81834:3.5 108932:4.5 \n",
      "1.5 3.6 7153:5.0 8807:2.5 26258:5.0 44022:3.0 82461:2.5 \n",
      "1.5 3.9 2105:2.5 47610:5.0 51086:5.0 70159:5.0 149322:2.0 \n",
      "1.0 3.2 6333:2.0 59784:2.5 106489:5.0 112556:5.0 149406:1.5 \n",
      "1.0 3.2 551:5.0 45186:2.5 53996:3.0 60408:0.5 94810:5.0 \n",
      "0.5 3.7 1682:5.0 4223:3.0 63992:0.5 85412:5.0 98809:5.0 \n",
      "0.5 2.7 5419:0.5 5481:0.5 6281:4.0 106487:4.5 114180:4.0 \n",
      "0.5 3.4 5952:5.0 7099:5.0 8605:1.5 71379:5.0 72998:0.5 \n"
     ]
    }
   ],
   "source": [
    "invOverPredSets(276534)"
   ]
  },
  {
   "cell_type": "code",
   "execution_count": 570,
   "metadata": {
    "collapsed": true
   },
   "outputs": [],
   "source": [
    "def isSigDev(user, setRatings, setDev = 0.5, indivDev = 0.5):\n",
    "    nDiffSets = 0\n",
    "    for itemSetNRat in setRatings:\n",
    "        items = itemSetNRat[0]\n",
    "        rating = itemSetNRat[1]\n",
    "        predSetRat = avgSetRat(user, items)\n",
    "        if abs(predSetRat - rating) >= setDev:\n",
    "            for item in items:\n",
    "                if (abs(uiRatings[user][item] - predSetRat) >= indivDev):\n",
    "                    nDiffSets += 1\n",
    "                    break\n",
    "    return nDiffSets\n",
    "        \n",
    "def is_rui_diffThanPred(user):\n",
    "    setRatings = uSetRatings[user]\n",
    "    nDiffSets = 0\n",
    "    for setRating in setRatings:\n",
    "        items = setRating[0]\n",
    "        rating = setRating[1]\n",
    "        predSetRat = avgSetRat(user, items)\n",
    "        if abs(predSetRat-rating) >= 0.5:\n",
    "            for item in items:\n",
    "                if abs(uiRatings[user][item] - predSetRat) >= 0.5:\n",
    "                    nDiffSets += 1\n",
    "                    break\n",
    "    return nDiffSets"
   ]
  },
  {
   "cell_type": "code",
   "execution_count": 459,
   "metadata": {
    "collapsed": false
   },
   "outputs": [],
   "source": [
    "uDiffSets = {}\n",
    "for u in userOverPredCount.keys():\n",
    "    nDiffSets = is_rui_diffThanPred(u)\n",
    "    if nDiffSets > 0:\n",
    "        uDiffSets[u] = nDiffSets"
   ]
  },
  {
   "cell_type": "code",
   "execution_count": 542,
   "metadata": {
    "collapsed": false
   },
   "outputs": [
    {
     "name": "stdout",
     "output_type": "stream",
     "text": [
      "667 4555 638 3201\n"
     ]
    }
   ],
   "source": [
    "uOvPred5 = []\n",
    "ovPredCt = 0\n",
    "uOvPred5Sets = 0\n",
    "uOvPredPc = {}\n",
    "for u, nOvSet in userOverPredCount.iteritems():\n",
    "    uOvPredPc[u] = float(nOvSet)/len(uSetRatings[u])\n",
    "    if nOvSet >= 1:\n",
    "        ovPredCt += 1\n",
    "    if nOvSet >= 5:\n",
    "        uOvPred5.append(u)\n",
    "        uOvPred5Sets += nOvSet\n",
    "        \n",
    "uUnderPred5 = []\n",
    "underPredCt = 0\n",
    "uUnderPred5Sets = 0\n",
    "uUnderPredPc = {}\n",
    "for u, nUnSet in userUnderPredCount.iteritems():\n",
    "    uUnderPredPc[u] = float(nUnSet)/len(uSetRatings[u])\n",
    "    if nUnSet >= 1:\n",
    "        underPredCt += 1\n",
    "    if nUnSet >= 5:\n",
    "        uUnderPred5.append(u)\n",
    "        uUnderPred5Sets += nUnSet\n",
    "        \n",
    "print ovPredCt, uOvPred5Sets, underPredCt, uUnderPred5Sets"
   ]
  },
  {
   "cell_type": "code",
   "execution_count": 493,
   "metadata": {
    "collapsed": false
   },
   "outputs": [
    {
     "name": "stdout",
     "output_type": "stream",
     "text": [
      "360 5251 0 45\n",
      "298 3934 0 39\n"
     ]
    }
   ],
   "source": [
    "print len(uOvPred5), sum(userOverPredCount.values()), min(userOverPredCount.values()), max(userOverPredCount.values())\n",
    "print len(uUnderPred5), sum(userUnderPredCount.values()), min(userUnderPredCount.values()), max(userUnderPredCount.values())"
   ]
  },
  {
   "cell_type": "code",
   "execution_count": 507,
   "metadata": {
    "collapsed": false
   },
   "outputs": [],
   "source": [
    "uOvDiffs = []\n",
    "uOvDiffSets = 0\n",
    "for user in uOvPred5:\n",
    "    nDiffSets = is_rui_diffThanPred(user)\n",
    "    uOvDiffSets += nDiffSets\n",
    "    if nDiffSets > 0:\n",
    "        uOvDiffs.append(user)\n",
    "\n",
    "uUnDiffs = []\n",
    "uUnDiffSets = 0\n",
    "for user in uUnderPred5:\n",
    "    nDiffSets = is_rui_diffThanPred(user)\n",
    "    uUnDiffSets += nDiffSets\n",
    "    if nDiffSets > 0:\n",
    "        uUnDiffs.append(user)"
   ]
  },
  {
   "cell_type": "code",
   "execution_count": 457,
   "metadata": {
    "collapsed": false
   },
   "outputs": [],
   "source": [
    "avgItemRating = {}\n",
    "itemCount     = {}\n",
    "avgUserRating = {}\n",
    "userCount     = {}\n",
    "for user, itemRatings in uiRatings.iteritems():\n",
    "    if user not in userCount:\n",
    "        userCount[user] = 0\n",
    "        avgUserRating[user] = 0\n",
    "    for item, rating in itemRatings.iteritems():\n",
    "        if item not in itemCount:\n",
    "            itemCount[item] = 0\n",
    "            avgItemRating[item] = 0\n",
    "        userCount[user] += 1\n",
    "        itemCount[item] += 1\n",
    "        avgUserRating[user] += rating\n",
    "        avgItemRating[item] += rating\n",
    "for item in avgItemRating.keys():\n",
    "    avgItemRating[item] = avgItemRating[item]/itemCount[item]\n",
    "for user in avgUserRating.keys():\n",
    "    avgUserRating[user] = avgUserRating[user]/userCount[user]"
   ]
  },
  {
   "cell_type": "code",
   "execution_count": 508,
   "metadata": {
    "collapsed": false
   },
   "outputs": [
    {
     "data": {
      "text/plain": [
       "(322, 258, 2264, 1452)"
      ]
     },
     "execution_count": 508,
     "metadata": {},
     "output_type": "execute_result"
    }
   ],
   "source": [
    "len(uOvDiffs), len(uUnDiffs), uOvDiffSets, uUnDiffSets"
   ]
  },
  {
   "cell_type": "code",
   "execution_count": 479,
   "metadata": {
    "collapsed": false
   },
   "outputs": [
    {
     "name": "stdout",
     "output_type": "stream",
     "text": [
      "1.0 3.2 273:4.0 317:1.5 7075:3.5 7841:4.0 8917:3.0 \n",
      "0.5 3.5 1175:4.0 5740:1.5 7123:5.0 7481:3.5 53464:3.5 \n",
      "0.5 3.2 410:4.0 1517:4.0 7001:0.5 48394:3.5 106072:4.0 \n"
     ]
    }
   ],
   "source": [
    "invOverPredSets(90197)"
   ]
  },
  {
   "cell_type": "code",
   "execution_count": 464,
   "metadata": {
    "collapsed": false
   },
   "outputs": [
    {
     "name": "stdout",
     "output_type": "stream",
     "text": [
      "2.0 4.1 3275:4.5 5464:5.0 8874:4.5 45722:3.0 56171:3.5 \n",
      "0.5 3.1 480:3.0 923:2.0 50872:3.0 55442:3.0 111443:4.5 \n",
      "1.5 3.6 1961:3.0 33493:3.5 41566:2.5 44555:5.0 98809:4.0 \n",
      "1.5 3.6 260:4.5 1348:2.5 3578:4.0 72998:4.5 106696:2.5 \n",
      "0.5 3.3 837:2.5 3997:2.0 4975:4.0 8949:3.5 33794:4.5 \n",
      "1.5 3.7 1293:2.0 2502:4.0 4993:5.0 7373:3.5 41997:4.0 \n",
      "1.5 3.9 2571:5.0 48516:4.5 56869:4.0 99114:2.0 134853:4.0 \n"
     ]
    }
   ],
   "source": [
    "invOverPredSets(259564)"
   ]
  },
  {
   "cell_type": "code",
   "execution_count": 517,
   "metadata": {
    "collapsed": false
   },
   "outputs": [
    {
     "name": "stdout",
     "output_type": "stream",
     "text": [
      "6339 668 12790 5227 480 8829\n"
     ]
    }
   ],
   "source": [
    "itemOvPred10 = []\n",
    "itemOvPredCt = 0\n",
    "itemOvPred10Sets = 0\n",
    "for item, nOvSet in itemOverPredCount.iteritems():\n",
    "    if nOvSet >= 1:\n",
    "        itemOvPredCt += 1\n",
    "    if nOvSet >= 10:\n",
    "        itemOvPred10.append(item)\n",
    "        itemOvPred10Sets += nOvSet\n",
    "        \n",
    "itemUnderPred10 = []\n",
    "itemUnderPredCt = 0\n",
    "itemUnderPred10Sets = 0\n",
    "for item, nUnSet in itemUnderPredCount.iteritems():\n",
    "    if nUnSet >= 1:\n",
    "        itemUnderPredCt += 1\n",
    "    if nUnSet >= 10:\n",
    "        itemUnderPred10.append(item)\n",
    "        itemUnderPred10Sets += nUnSet\n",
    "        \n",
    "print itemOvPredCt, len(itemOvPred10), itemOvPred10Sets, itemUnderPredCt, len(itemUnderPred10), itemUnderPred10Sets"
   ]
  },
  {
   "cell_type": "code",
   "execution_count": 525,
   "metadata": {
    "collapsed": false
   },
   "outputs": [],
   "source": [
    "itemOvPredPc = {}\n",
    "itemUnderPredPc = {}\n",
    "for item in itemSetCount.keys():\n",
    "    pc = float(itemOverPredCount[item])/float(itemSetCount[item])\n",
    "    itemOvPredPc[item] = pc\n",
    "    pc = float(itemUnderPredCount[item])/float(itemSetCount[item])\n",
    "    itemUnderPredPc[item] = pc"
   ]
  },
  {
   "cell_type": "code",
   "execution_count": 533,
   "metadata": {
    "collapsed": false
   },
   "outputs": [
    {
     "name": "stdout",
     "output_type": "stream",
     "text": [
      "276 2.61538461538\n",
      "308 3.76582278481\n",
      "33171 3.65217391304\n",
      "943 3.59259259259\n",
      "1598 3.08333333333\n",
      "1603 2.79166666667\n",
      "1648 3.11363636364\n",
      "5572 3.07352941176\n",
      "3799 2.22\n",
      "4056 3.19512195122\n",
      "135137 2.59836065574\n",
      "4255 2.03333333333\n",
      "5316 3.35714285714\n",
      "6970 3.70454545455\n",
      "40148 3.01315789474\n",
      "7560 3.81707317073\n",
      "8183 3.77586206897\n",
      "48319 3.09523809524\n",
      "53161 3.15\n",
      "53468 3.4\n",
      "86487 3.525\n",
      "86628 3.38461538462\n",
      "92008 2.7972972973\n",
      "27423 4.22222222222\n",
      "62155 3.06790123457\n"
     ]
    }
   ],
   "source": [
    "for item, pc in itemOvPredPc.iteritems():\n",
    "    if pc > 0.5 and itemSetCount[item] > 5:\n",
    "        print item, avgItemRating[item]"
   ]
  },
  {
   "cell_type": "code",
   "execution_count": 534,
   "metadata": {
    "collapsed": false
   },
   "outputs": [
    {
     "name": "stdout",
     "output_type": "stream",
     "text": [
      "2153 1.95\n",
      "4380 3.66129032258\n",
      "81417 2.39285714286\n",
      "50923 3.19230769231\n",
      "101997 1.825\n"
     ]
    }
   ],
   "source": [
    "for item, pc in itemUnderPredPc.iteritems():\n",
    "    if pc > 0.5 and itemSetCount[item] > 5:\n",
    "        print item, avgItemRating[item]"
   ]
  },
  {
   "cell_type": "code",
   "execution_count": 573,
   "metadata": {
    "collapsed": false
   },
   "outputs": [
    {
     "name": "stdout",
     "output_type": "stream",
     "text": [
      "ovPredUsersByPc:  212 3347  underPredUsersPc:  148 1946\n"
     ]
    }
   ],
   "source": [
    "ovPredUsersByPc = []\n",
    "netOverPredSets = 0\n",
    "for user, pc in uOvPredPc.iteritems():\n",
    "    if pc > 0.25 and len(uSetRatings[user]) > 4:\n",
    "        ovPredUsersByPc.append(user)\n",
    "        netOverPredSets += userOverPredCount[user]\n",
    "        \n",
    "underPredUsersByPc = []\n",
    "netUnderPredSets = 0\n",
    "for user, pc in uUnderPredPc.iteritems():\n",
    "    if pc > 0.25 and len(uSetRatings[user]) > 4:\n",
    "        underPredUsersByPc.append(user)\n",
    "        netUnderPredSets += userUnderPredCount[user]\n",
    "print 'ovPredUsersByPc: ', len(ovPredUsersByPc), netOverPredSets, ' underPredUsersPc: ', len(underPredUsersByPc), netUnderPredSets"
   ]
  },
  {
   "cell_type": "code",
   "execution_count": 577,
   "metadata": {
    "collapsed": true
   },
   "outputs": [],
   "source": [
    "uOvDiffs = []\n",
    "uOvDiffSets = 0\n",
    "for user in ovPredUsersByPc:\n",
    "    nDiffSets = isSigDev(user, uOvPredSetRatings[user], 0.5, 1)\n",
    "    uOvDiffSets += nDiffSets\n",
    "    if nDiffSets > 0:\n",
    "        uOvDiffs.append(user)\n",
    "\n",
    "uUnDiffs = []\n",
    "uUnDiffSets = 0\n",
    "for user in underPredUsersByPc:\n",
    "    nDiffSets = isSigDev(user, uUnderPredSetRatings[user], 0.5, 1)\n",
    "    uUnDiffSets += nDiffSets\n",
    "    if nDiffSets > 0:\n",
    "        uUnDiffs.append(user)"
   ]
  },
  {
   "cell_type": "code",
   "execution_count": 578,
   "metadata": {
    "collapsed": false
   },
   "outputs": [
    {
     "data": {
      "text/plain": [
       "(188, 2096, 137, 1393)"
      ]
     },
     "execution_count": 578,
     "metadata": {},
     "output_type": "execute_result"
    }
   ],
   "source": [
    "len(uOvDiffs), uOvDiffSets, len(uUnDiffs), uUnDiffSets"
   ]
  },
  {
   "cell_type": "code",
   "execution_count": 572,
   "metadata": {
    "collapsed": false
   },
   "outputs": [
    {
     "data": {
      "text/plain": [
       "(68, 1415, 30, 446)"
      ]
     },
     "execution_count": 572,
     "metadata": {},
     "output_type": "execute_result"
    }
   ],
   "source": [
    "len(uOvDiffs), uOvDiffSets, len(uUnDiffs), uUnDiffSets"
   ]
  },
  {
   "cell_type": "code",
   "execution_count": 579,
   "metadata": {
    "collapsed": false
   },
   "outputs": [
    {
     "data": {
      "text/plain": [
       "(5251, 3934)"
      ]
     },
     "execution_count": 579,
     "metadata": {},
     "output_type": "execute_result"
    }
   ],
   "source": [
    "sum(userOverPredCount.values()), sum(userUnderPredCount.values())"
   ]
  },
  {
   "cell_type": "code",
   "execution_count": 580,
   "metadata": {
    "collapsed": false
   },
   "outputs": [
    {
     "name": "stdout",
     "output_type": "stream",
     "text": [
      "RMSE ovPredSets:  1.04726975886\n",
      "RMSE unPredSets:  0.888905234838\n"
     ]
    }
   ],
   "source": [
    "def seSets(user, setRatings):\n",
    "    nSets = 0.0\n",
    "    se = 0.0\n",
    "    for setRating in setRatings:\n",
    "        items = setRating[0]\n",
    "        rating = setRating[1]\n",
    "        predSetRat = avgSetRat(user, items)\n",
    "        diff = predSetRat - rating\n",
    "        se += diff*diff\n",
    "        nSets += 1\n",
    "    return (se, nSets)\n",
    "\n",
    "se = 0\n",
    "nsets = 0\n",
    "for user, setRatings in uOvPredSetRatings.iteritems():\n",
    "    (uSe, uNSets) = seSets(user, setRatings)\n",
    "    se += uSe\n",
    "    nsets += uNSets\n",
    "print 'RMSE ovPredSets: ', np.sqrt(se/nsets)\n",
    "\n",
    "se = 0\n",
    "nsets = 0\n",
    "for user, setRatings in uUnderPredSetRatings.iteritems():\n",
    "    (uSe, uNSets) = seSets(user, setRatings)\n",
    "    se += uSe\n",
    "    nsets += uNSets\n",
    "print 'RMSE unPredSets: ', np.sqrt(se/nsets)"
   ]
  },
  {
   "cell_type": "code",
   "execution_count": 611,
   "metadata": {
    "collapsed": true
   },
   "outputs": [],
   "source": [
    "#go through over predicted sets and find gap between\n",
    "#lowest rated item and others\n",
    "def gapLowNOthers(user, itemsNRat):\n",
    "    items = itemsNRat[0]\n",
    "    rating = itemsNRat[1]\n",
    "    predSetRat = avgSetRat(user, items)\n",
    "    itemRatings = []\n",
    "    for item in items:\n",
    "        itemRatings.append((uiRatings[user][item], item))\n",
    "    itemRatings.sort()\n",
    "    loRat= itemRatings[0][0]\n",
    "    avgRat = 0\n",
    "    for itemRating in itemRatings[1:]:\n",
    "        avgRat += itemRating[0]\n",
    "    avgRat = avgRat / 4\n",
    "    return abs(loRat - avgRat)\n",
    "\n",
    "#two lowest rated item and others\n",
    "def gap2LowNOthers(user, itemsNRat):\n",
    "    items = itemsNRat[0]\n",
    "    rating = itemsNRat[1]\n",
    "    predSetRat = avgSetRat(user, items)\n",
    "    itemRatings = []\n",
    "    for item in items:\n",
    "        itemRatings.append((uiRatings[user][item], item))\n",
    "    itemRatings.sort()\n",
    "    loRat = itemRatings[0][0] + itemRatings[1][0]\n",
    "    loRat = loRat/2\n",
    "    avgRat = 0\n",
    "    for itemRating in itemRatings[2:]:\n",
    "        avgRat += itemRating[0]\n",
    "    avgRat = avgRat / 3\n",
    "    return abs(loRat - avgRat)\n",
    "\n",
    "def gapLowNMedian(user, itemsNRat):\n",
    "    items = itemsNRat[0]\n",
    "    rating = itemsNRat[1]\n",
    "    predSetRat = avgSetRat(user, items)\n",
    "    itemRatings = []\n",
    "    for item in items:\n",
    "        itemRatings.append((uiRatings[user][item], item))\n",
    "    itemRatings.sort()\n",
    "    loRat= itemRatings[0][0]\n",
    "    medRat = itemRatings[2][0]\n",
    "    return abs(loRat - medRat)"
   ]
  },
  {
   "cell_type": "code",
   "execution_count": 614,
   "metadata": {
    "collapsed": false
   },
   "outputs": [
    {
     "name": "stdout",
     "output_type": "stream",
     "text": [
      "1.36171681584 1.22517933092 1.16968196534\n"
     ]
    }
   ],
   "source": [
    "avgGapLowNOthers = 0\n",
    "avgGap2LowNOthers = 0\n",
    "avgGapLowNMed = 0\n",
    "count = 0\n",
    "for user, setRatings in uOvPredSetRatings.iteritems():\n",
    "    for setRating in setRatings:\n",
    "        avgGapLowNOthers += gapLowNOthers(user, setRating)\n",
    "        avgGap2LowNOthers += gap2LowNOthers(user, setRating)\n",
    "        avgGapLowNMed += gapLowNMedian(user, setRating)\n",
    "        count += 1\n",
    "avgGapLowNOthers = avgGapLowNOthers/count\n",
    "avgGap2LowNOthers = avgGap2LowNOthers/count\n",
    "avgGapLowNMed = avgGapLowNMed/count\n",
    "print avgGapLowNOthers, avgGap2LowNOthers, avgGapLowNMed"
   ]
  },
  {
   "cell_type": "code",
   "execution_count": 618,
   "metadata": {
    "collapsed": false
   },
   "outputs": [
    {
     "name": "stdout",
     "output_type": "stream",
     "text": [
      "1.24580689587 1.12048103881 1.06440903054\n"
     ]
    }
   ],
   "source": [
    "avgGapLowNOthers = 0\n",
    "avgGap2LowNOthers = 0\n",
    "avgGapLowNMed = 0\n",
    "count = 0\n",
    "for user, setRatings in uNeitherPredSetRatings.iteritems():\n",
    "    for setRating in setRatings:\n",
    "        avgGapLowNOthers += gapLowNOthers(user, setRating)\n",
    "        avgGap2LowNOthers += gap2LowNOthers(user, setRating)\n",
    "        avgGapLowNMed += gapLowNMedian(user, setRating)\n",
    "        count += 1\n",
    "avgGapLowNOthers = avgGapLowNOthers/count\n",
    "avgGap2LowNOthers = avgGap2LowNOthers/count\n",
    "avgGapLowNMed = avgGapLowNMed/count\n",
    "print avgGapLowNOthers, avgGap2LowNOthers, avgGapLowNMed"
   ]
  },
  {
   "cell_type": "code",
   "execution_count": 612,
   "metadata": {
    "collapsed": false
   },
   "outputs": [
    {
     "name": "stdout",
     "output_type": "stream",
     "text": [
      "1.54728012201 1.41029062871 1.32651245552\n"
     ]
    }
   ],
   "source": [
    "avgGapLowNOthers = 0\n",
    "avgGapLowNMed = 0\n",
    "avgGap2LowNOthers = 0\n",
    "count = 0\n",
    "for user, setRatings in uUnderPredSetRatings.iteritems():\n",
    "    for setRating in setRatings:\n",
    "        avgGapLowNOthers += gapLowNOthers(user, setRating)\n",
    "        avgGap2LowNOthers += gap2LowNOthers(user, setRating)\n",
    "        avgGapLowNMed += gapLowNMedian(user, setRating)\n",
    "        count += 1\n",
    "avgGapLowNOthers = avgGapLowNOthers/count\n",
    "avgGap2LowNOthers = avgGap2LowNOthers/count\n",
    "avgGapLowNMed = avgGapLowNMed/count\n",
    "print avgGapLowNOthers, avgGap2LowNOthers, avgGapLowNMed"
   ]
  },
  {
   "cell_type": "code",
   "execution_count": 610,
   "metadata": {
    "collapsed": true
   },
   "outputs": [],
   "source": [
    "def gapTopNOthers(user, itemsNRat):\n",
    "    items = itemsNRat[0]\n",
    "    rating = itemsNRat[1]\n",
    "    predSetRat = avgSetRat(user, items)\n",
    "    itemRatings = []\n",
    "    for item in items:\n",
    "        itemRatings.append((uiRatings[user][item], item))\n",
    "    itemRatings.sort(reverse=True)\n",
    "    loRat= itemRatings[0][0]\n",
    "    avgRat = 0\n",
    "    for itemRating in itemRatings[1:]:\n",
    "        avgRat += itemRating[0]\n",
    "    avgRat = avgRat / 4\n",
    "    return abs(loRat - avgRat)\n",
    "\n",
    "#two lowest rated item and others\n",
    "def gap2TopNOthers(user, itemsNRat):\n",
    "    items = itemsNRat[0]\n",
    "    rating = itemsNRat[1]\n",
    "    predSetRat = avgSetRat(user, items)\n",
    "    itemRatings = []\n",
    "    for item in items:\n",
    "        itemRatings.append((uiRatings[user][item], item))\n",
    "    itemRatings.sort(reverse=True)\n",
    "    loRat = itemRatings[0][0] + itemRatings[1][0]\n",
    "    loRat = loRat/2\n",
    "    avgRat = 0\n",
    "    for itemRating in itemRatings[2:]:\n",
    "        avgRat += itemRating[0]\n",
    "    avgRat = avgRat / 3\n",
    "    return abs(loRat - avgRat)\n",
    "\n",
    "def gapTopNMedian(user, itemsNRat):\n",
    "    items = itemsNRat[0]\n",
    "    rating = itemsNRat[1]\n",
    "    predSetRat = avgSetRat(user, items)\n",
    "    itemRatings = []\n",
    "    for item in items:\n",
    "        itemRatings.append((uiRatings[user][item], item))\n",
    "    itemRatings.sort(reverse=True)\n",
    "    loRat= itemRatings[0][0]\n",
    "    medRat = itemRatings[2][0]\n",
    "    return abs(loRat - medRat)"
   ]
  },
  {
   "cell_type": "code",
   "execution_count": 615,
   "metadata": {
    "collapsed": false
   },
   "outputs": [
    {
     "name": "stdout",
     "output_type": "stream",
     "text": [
      "1.13792610931 1.15825557037 0.830032374786\n"
     ]
    }
   ],
   "source": [
    "avgGapTopNOthers = 0\n",
    "avgGap2TopNOthers = 0\n",
    "avgGapTopNMed  = 0\n",
    "count = 0\n",
    "for user, setRatings in uOvPredSetRatings.iteritems():\n",
    "    for setRating in setRatings:\n",
    "        avgGapTopNOthers += gapTopNOthers(user, setRating)\n",
    "        avgGap2TopNOthers += gap2TopNOthers(user, setRating)\n",
    "        avgGapTopNMed += gapTopNMedian(user, setRating)\n",
    "        count += 1\n",
    "avgGapTopNOthers = avgGapTopNOthers/count\n",
    "avgGap2TopNOthers = avgGap2TopNOthers/count\n",
    "avgGapTopNMed = avgGapTopNMed/count\n",
    "print avgGapTopNOthers, avgGap2TopNOthers, avgGapTopNMed"
   ]
  },
  {
   "cell_type": "code",
   "execution_count": 616,
   "metadata": {
    "collapsed": false
   },
   "outputs": [
    {
     "name": "stdout",
     "output_type": "stream",
     "text": [
      "1.31574097611 1.33638366379 0.963904422979\n"
     ]
    }
   ],
   "source": [
    "avgGapTopNOthers = 0\n",
    "avgGap2TopNOthers = 0\n",
    "avgGapTopNMed  = 0\n",
    "count = 0\n",
    "for user, setRatings in uUnderPredSetRatings.iteritems():\n",
    "    for setRating in setRatings:\n",
    "        avgGapTopNOthers += gapTopNOthers(user, setRating)\n",
    "        avgGap2TopNOthers += gap2TopNOthers(user, setRating)\n",
    "        avgGapTopNMed += gapTopNMedian(user, setRating)\n",
    "        count += 1\n",
    "avgGapTopNOthers = avgGapTopNOthers/count\n",
    "avgGap2TopNOthers = avgGap2TopNOthers/count\n",
    "avgGapTopNMed = avgGapTopNMed/count\n",
    "print avgGapTopNOthers, avgGap2TopNOthers, avgGapTopNMed"
   ]
  },
  {
   "cell_type": "code",
   "execution_count": 617,
   "metadata": {
    "collapsed": false
   },
   "outputs": [
    {
     "name": "stdout",
     "output_type": "stream",
     "text": [
      "1.05480546948 1.06401144394 0.776080861738\n"
     ]
    }
   ],
   "source": [
    "avgGapTopNOthers = 0\n",
    "avgGap2TopNOthers = 0\n",
    "avgGapTopNMed  = 0\n",
    "\n",
    "count = 0\n",
    "for user, setRatings in uNeitherPredSetRatings.iteritems():\n",
    "    for setRating in setRatings:\n",
    "        avgGapTopNOthers += gapTopNOthers(user, setRating)\n",
    "        avgGap2TopNOthers += gap2TopNOthers(user, setRating)\n",
    "        avgGapTopNMed += gapTopNMedian(user, setRating)\n",
    "        count += 1\n",
    "avgGapTopNOthers = avgGapTopNOthers/count\n",
    "avgGap2TopNOthers = avgGap2TopNOthers/count\n",
    "avgGapTopNMed = avgGapTopNMed/count\n",
    "\n",
    "print avgGapTopNOthers, avgGap2TopNOthers, avgGapTopNMed"
   ]
  },
  {
   "cell_type": "code",
   "execution_count": 619,
   "metadata": {
    "collapsed": true
   },
   "outputs": [],
   "source": [
    "uSetCount = {}\n",
    "for u, setRatings in uSetRatings.iteritems():\n",
    "    uSetCount[u] = len(setRatings)"
   ]
  },
  {
   "cell_type": "code",
   "execution_count": 625,
   "metadata": {
    "collapsed": false
   },
   "outputs": [
    {
     "data": {
      "text/plain": [
       "<matplotlib.text.Text at 0x7f3fe1d9de90>"
      ]
     },
     "execution_count": 625,
     "metadata": {},
     "output_type": "execute_result"
    },
    {
     "data": {
      "image/png": "[encoded data removed]",
      "text/plain": [
       "<matplotlib.figure.Figure at 0x7f3fe1875710>"
      ]
     },
     "metadata": {},
     "output_type": "display_data"
    }
   ],
   "source": [
    "plt.hist(uSetCount.values(), bins=50);\n",
    "plt.xlabel('no. of sets')\n",
    "plt.ylabel('no. of users')"
   ]
  },
  {
   "cell_type": "code",
   "execution_count": 624,
   "metadata": {
    "collapsed": false
   },
   "outputs": [
    {
     "data": {
      "text/plain": [
       "(1, 34.562060889929739, 100)"
      ]
     },
     "execution_count": 624,
     "metadata": {},
     "output_type": "execute_result"
    }
   ],
   "source": [
    "min(uSetCount.values()), np.average(uSetCount.values()), max(uSetCount.values())"
   ]
  },
  {
   "cell_type": "code",
   "execution_count": 719,
   "metadata": {
    "collapsed": true
   },
   "outputs": [],
   "source": [
    "def getSetEntropy(user, items):\n",
    "    entropy = 0.0\n",
    "    bins = [0 for i in range(5)]\n",
    "    for i in range(len(items)):\n",
    "        item = items[i]\n",
    "        rating = uiRatings[user][item]\n",
    "        if rating >= 0 and rating <= 1:\n",
    "            bins[0] += 1\n",
    "        elif rating > 1 and rating <= 2:\n",
    "            bins[1] += 1\n",
    "        elif rating > 2 and rating <= 3:\n",
    "            bins[2] += 1\n",
    "        elif rating > 3 and rating <= 4:\n",
    "            bins[3] += 1\n",
    "        elif rating > 4 and rating <= 5:\n",
    "            bins[4] += 1\n",
    "    for ct in bins:\n",
    "        ct = float(ct)\n",
    "        if ct > 0:\n",
    "            entropy += -1.0 * ct/5 * np.log(ct/5)\n",
    "    return entropy\n",
    "\n",
    "def getSetsEntropy(userSetRatings):\n",
    "    nSets = 0\n",
    "    setsEntropy = []\n",
    "    for user, setRatings in userSetRatings.iteritems():\n",
    "        for setRating in setRatings:\n",
    "            items = setRating[0]\n",
    "            setsEntropy.append(getSetEntropy(user, items))\n",
    "            nSets += 1\n",
    "    return setsEntropy\n",
    "\n",
    "def avgPairwiseSim(user, items):\n",
    "    avgSim = 0.0\n",
    "    nPairs = 0\n",
    "    for i in range(len(items)):\n",
    "        for j in range(i+1, len(items)):\n",
    "            diff = uiRatings[user][items[i]] - uiRatings[user][items[j]]\n",
    "            avgSim += diff*diff\n",
    "            nPairs += 1\n",
    "    avgSim = np.sqrt(avgSim / nPairs)\n",
    "    return avgSim\n",
    "\n",
    "def getPairwiseSim(uSetRatings):\n",
    "    nSets = 0\n",
    "    pSim  = 0.0\n",
    "    for user, setRatings in uSetRatings.iteritems():\n",
    "        for setRating in setRatings:\n",
    "            items = setRating[0]\n",
    "            rating = setRating[1]\n",
    "            pSim += avgPairwiseSim(user, items)\n",
    "            nSets += 1\n",
    "    return pSim/nSets\n",
    "\n",
    "def getPairwiseSims(uSetRatings):\n",
    "    nSets = 0\n",
    "    pSims  = []\n",
    "    for user, setRatings in uSetRatings.iteritems():\n",
    "        for setRating in setRatings:\n",
    "            items = setRating[0]\n",
    "            rating = setRating[1]\n",
    "            pSims.append(avgPairwiseSim(user, items))\n",
    "            nSets += 1\n",
    "    return pSims"
   ]
  },
  {
   "cell_type": "code",
   "execution_count": 772,
   "metadata": {
    "collapsed": false
   },
   "outputs": [
    {
     "name": "stdout",
     "output_type": "stream",
     "text": [
      "overPred psim:  1.1799223863 underPred psim:  1.34981590387\n",
      "neither psim:  1.08411048827\n"
     ]
    }
   ],
   "source": [
    "print 'overPred psim: ', getPairwiseSim(uOvPredSetRatings),\n",
    "print 'underPred psim: ', getPairwiseSim(uUnderPredSetRatings)\n",
    "print 'neither psim: ', getPairwiseSim(uNeitherPredSetRatings)"
   ]
  },
  {
   "cell_type": "code",
   "execution_count": 641,
   "metadata": {
    "collapsed": false
   },
   "outputs": [],
   "source": [
    "uSetPc = {}\n",
    "for user, setRatings in uSetRatings.iteritems():\n",
    "    nSets = len(setRatings)\n",
    "    nOvPredSets = 0\n",
    "    nUnderPredSets = 0\n",
    "    nNeitherPredSets = 0\n",
    "    if user in uOvPredSetRatings:\n",
    "        nOvPredSets = float(len(uOvPredSetRatings[user]))\n",
    "    if user in uUnderPredSetRatings:\n",
    "        nUnderPredSets = float(len(uUnderPredSetRatings[user]))\n",
    "    if user in uNeitherPredSetRatings:\n",
    "        nNeitherPredSets = float(len(uNeitherPredSetRatings[user]))\n",
    "    if nOvPredSets + nUnderPredSets + nNeitherPredSets != nSets:\n",
    "        print 'No. of sets mismatch for', user\n",
    "    uSetPc[user] = (nOvPredSets/nSets, nUnderPredSets/nSets, nNeitherPredSets/nSets)"
   ]
  },
  {
   "cell_type": "code",
   "execution_count": 642,
   "metadata": {
    "collapsed": true
   },
   "outputs": [],
   "source": [
    "ovPredPc = []\n",
    "unPredPc = []\n",
    "neitherPredPc = []\n",
    "for user, pcs in uSetPc.iteritems():\n",
    "    ovPredPc.append(pcs[0])\n",
    "    unPredPc.append(pcs[1])\n",
    "    neitherPredPc.append(pcs[2])"
   ]
  },
  {
   "cell_type": "code",
   "execution_count": 646,
   "metadata": {
    "collapsed": false
   },
   "outputs": [
    {
     "data": {
      "text/plain": [
       "<matplotlib.text.Text at 0x7f3fe3293b10>"
      ]
     },
     "execution_count": 646,
     "metadata": {},
     "output_type": "execute_result"
    },
    {
     "data": {
      "image/png": "[encoded data removed]",
      "text/plain": [
       "<matplotlib.figure.Figure at 0x7f3fe3975690>"
      ]
     },
     "metadata": {},
     "output_type": "display_data"
    }
   ],
   "source": [
    "plt.hist(unPredPc)\n",
    "plt.xlabel('under predicted %')\n",
    "plt.ylabel('No. of users')"
   ]
  },
  {
   "cell_type": "code",
   "execution_count": 647,
   "metadata": {
    "collapsed": false
   },
   "outputs": [
    {
     "data": {
      "text/plain": [
       "<matplotlib.text.Text at 0x7f3fe2b325d0>"
      ]
     },
     "execution_count": 647,
     "metadata": {},
     "output_type": "execute_result"
    },
    {
     "data": {
      "image/png": "[encoded data removed]",
      "text/plain": [
       "<matplotlib.figure.Figure at 0x7f3fe3406610>"
      ]
     },
     "metadata": {},
     "output_type": "display_data"
    }
   ],
   "source": [
    "plt.hist(ovPredPc)\n",
    "plt.xlabel('over predicted %')\n",
    "plt.ylabel('No. of users')"
   ]
  },
  {
   "cell_type": "code",
   "execution_count": 652,
   "metadata": {
    "collapsed": false
   },
   "outputs": [
    {
     "data": {
      "text/plain": [
       "<matplotlib.text.Text at 0x7f3fe2be9f90>"
      ]
     },
     "execution_count": 652,
     "metadata": {},
     "output_type": "execute_result"
    },
    {
     "data": {
      "image/png": "[encoded data removed]",
      "text/plain": [
       "<matplotlib.figure.Figure at 0x7f3fe2b95590>"
      ]
     },
     "metadata": {},
     "output_type": "display_data"
    }
   ],
   "source": [
    "plt.hist(neitherPredPc)\n",
    "plt.xlabel('neither %')\n",
    "plt.ylabel('No. of users')"
   ]
  },
  {
   "cell_type": "code",
   "execution_count": 653,
   "metadata": {
    "collapsed": false
   },
   "outputs": [],
   "source": [
    "f_val, p_val = stats.f_oneway(treatment1, treatment2, treatment3)"
   ]
  },
  {
   "cell_type": "code",
   "execution_count": 720,
   "metadata": {
    "collapsed": false
   },
   "outputs": [],
   "source": [
    "overPredPSims = getPairwiseSims(uOvPredSetRatings)\n",
    "overPredEn = getSetsEntropy(uOvPredSetRatings)\n",
    "underPredPSims = getPairwiseSims(uUnderPredSetRatings)\n",
    "underPredEn = getSetsEntropy(uUnderPredSetRatings)\n",
    "neitherPredPSims = getPairwiseSims(uNeitherPredSetRatings)\n",
    "neitherPredEn = getSetsEntropy(uNeitherPredSetRatings)"
   ]
  },
  {
   "cell_type": "code",
   "execution_count": 656,
   "metadata": {
    "collapsed": true,
    "scrolled": true
   },
   "outputs": [],
   "source": [
    "f_val, p_val = stats.f_oneway(overPredPSims, underPredSims, neitherPredSims)"
   ]
  },
  {
   "cell_type": "code",
   "execution_count": 665,
   "metadata": {
    "collapsed": false
   },
   "outputs": [
    {
     "name": "stdout",
     "output_type": "stream",
     "text": [
      "400.520044201 2.37178923268e-172\n"
     ]
    },
    {
     "data": {
      "text/plain": [
       "'http://www.scipy-lectures.org/packages/statistics/index.html#hypothesis-testing-comparing-two-groups'"
      ]
     },
     "execution_count": 665,
     "metadata": {},
     "output_type": "execute_result"
    }
   ],
   "source": [
    "print f_val, p_val\n",
    "\"http://www.scipy-lectures.org/packages/statistics/index.html#hypothesis-testing-comparing-two-groups\""
   ]
  },
  {
   "cell_type": "code",
   "execution_count": 661,
   "metadata": {
    "collapsed": false
   },
   "outputs": [
    {
     "data": {
      "text/plain": [
       "Ttest_indResult(statistic=-13.668707960853322, pvalue=4.0279620295625119e-42)"
      ]
     },
     "execution_count": 661,
     "metadata": {},
     "output_type": "execute_result"
    }
   ],
   "source": [
    "stats.ttest_ind(overPredPSims, underPredPSims)"
   ]
  },
  {
   "cell_type": "code",
   "execution_count": 662,
   "metadata": {
    "collapsed": false
   },
   "outputs": [
    {
     "data": {
      "text/plain": [
       "Ttest_indResult(statistic=11.420801127143234, pvalue=3.8950098428977017e-30)"
      ]
     },
     "execution_count": 662,
     "metadata": {},
     "output_type": "execute_result"
    }
   ],
   "source": [
    "stats.ttest_ind(overPredPSims, neitherPredPSims)"
   ]
  },
  {
   "cell_type": "code",
   "execution_count": 664,
   "metadata": {
    "collapsed": false
   },
   "outputs": [
    {
     "data": {
      "text/plain": [
       "Ttest_indResult(statistic=0.0, pvalue=1.0)"
      ]
     },
     "execution_count": 664,
     "metadata": {},
     "output_type": "execute_result"
    }
   ],
   "source": [
    "stats.ttest_ind(overPredPSims, overPredPSims)"
   ]
  },
  {
   "cell_type": "code",
   "execution_count": 666,
   "metadata": {
    "collapsed": true
   },
   "outputs": [],
   "source": [
    "itemSetCount = {}\n",
    "for user, setRatings in uSetRatings.iteritems():\n",
    "    for setRating in setRatings:\n",
    "        items = setRating[0]\n",
    "        for item in items:\n",
    "            if item not in itemSetCount:\n",
    "                itemSetCount[item] = 0\n",
    "            itemSetCount[item] += 1\n",
    "            "
   ]
  },
  {
   "cell_type": "code",
   "execution_count": 773,
   "metadata": {
    "collapsed": false
   },
   "outputs": [
    {
     "data": {
      "text/plain": [
       "<matplotlib.text.Text at 0x7f3fdb4dce50>"
      ]
     },
     "execution_count": 773,
     "metadata": {},
     "output_type": "execute_result"
    },
    {
     "data": {
      "image/png": "[encoded data removed]",
      "text/plain": [
       "<matplotlib.figure.Figure at 0x7f3fdb05b910>"
      ]
     },
     "metadata": {},
     "output_type": "display_data"
    }
   ],
   "source": [
    "plt.hist(itemSetCount.values(),bins=50, range=(0,50));\n",
    "plt.xlabel('no. of sets item appears in')\n",
    "plt.ylabel('no. of items')"
   ]
  },
  {
   "cell_type": "code",
   "execution_count": 672,
   "metadata": {
    "collapsed": true
   },
   "outputs": [],
   "source": [
    "def getItemNAvgSetratings(userSetRatings):\n",
    "    itemSetRatDist = {}\n",
    "    for user, setRatings in userSetRatings.iteritems():\n",
    "        for setRating in setRatings:\n",
    "            items = setRating[0]\n",
    "            rating = setRating[1]\n",
    "            avgRating = avgSetRat(user, items)\n",
    "            for item in items:\n",
    "                itemRating = uiRatings[user][item]\n",
    "                if item not in itemSetRatDist:\n",
    "                    itemSetRatDist[item] = {itemRating: [0.0, 0.0, 0.0]}\n",
    "                elif itemRating not in itemSetRatDist[item]:\n",
    "                    itemSetRatDist[item][itemRating] = [0.0,0.0,0.0]\n",
    "                itemSetRatDist[item][itemRating][0] += rating\n",
    "                itemSetRatDist[item][itemRating][1] += avgRating\n",
    "                itemSetRatDist[item][itemRating][2] += 1\n",
    "    for item, itemRatDist in itemSetRatDist.iteritems():\n",
    "        for itemRating in itemRatDist.keys():\n",
    "            itemSetRatDist[item][itemRating][0] = itemSetRatDist[item][itemRating][0]/itemSetRatDist[item][itemRating][2]\n",
    "            itemSetRatDist[item][itemRating][1] = itemSetRatDist[item][itemRating][1]/itemSetRatDist[item][itemRating][2]\n",
    "    return itemSetRatDist"
   ]
  },
  {
   "cell_type": "code",
   "execution_count": 673,
   "metadata": {
    "collapsed": false
   },
   "outputs": [],
   "source": [
    "itemDist = getItemNAvgSetratings(uSetRatings)"
   ]
  },
  {
   "cell_type": "code",
   "execution_count": 674,
   "metadata": {
    "collapsed": false
   },
   "outputs": [
    {
     "data": {
      "text/plain": [
       "[98304, 1, 2, 3, 4]"
      ]
     },
     "execution_count": 674,
     "metadata": {},
     "output_type": "execute_result"
    }
   ],
   "source": [
    "itemDist.keys()[:5]\n",
    "    "
   ]
  },
  {
   "cell_type": "code",
   "execution_count": 677,
   "metadata": {
    "collapsed": false
   },
   "outputs": [
    {
     "data": {
      "text/plain": [
       "{1.5: [3.25, 3.15, 4.0],\n",
       " 2.0: [2.8125, 2.7875, 8.0],\n",
       " 2.5: [2.909090909090909, 3.0545454545454542, 11.0],\n",
       " 3.0: [3.38, 3.4, 25.0],\n",
       " 3.5: [3.52, 3.556, 25.0],\n",
       " 4.0: [3.5, 3.6578947368421053, 19.0],\n",
       " 4.5: [4.166666666666667, 3.8333333333333335, 3.0],\n",
       " 5.0: [4.0, 4.15, 4.0]}"
      ]
     },
     "execution_count": 677,
     "metadata": {},
     "output_type": "execute_result"
    }
   ],
   "source": [
    "itemDist[2]"
   ]
  },
  {
   "cell_type": "code",
   "execution_count": 712,
   "metadata": {
    "collapsed": false
   },
   "outputs": [],
   "source": [
    "ovItems = []\n",
    "unItems = []\n",
    "for item in itemDist.keys():\n",
    "    totalSets = 0\n",
    "    ovSets = 0\n",
    "    unSets = 0\n",
    "    for rating, setRats in itemDist[item].iteritems():\n",
    "        setRat = setRats[0]\n",
    "        avgRat = setRats[1]\n",
    "        nSets = setRats[2]\n",
    "        totalSets += nSets\n",
    "        if avgRat - setRat > 0.5:\n",
    "            ovSets += nSets\n",
    "        elif avgRat - setRat < -0.5:\n",
    "            unSets += nSets\n",
    "    if totalSets > 4 and float(ovSets)/float(totalSets) > 0.5:\n",
    "        ovItems.append(item)\n",
    "    if totalSets > 4 and float(unSets)/float(totalSets) > 0.5:\n",
    "        unItems.append(item)"
   ]
  },
  {
   "cell_type": "code",
   "execution_count": 713,
   "metadata": {
    "collapsed": false
   },
   "outputs": [
    {
     "data": {
      "text/plain": [
       "(100, 25)"
      ]
     },
     "execution_count": 713,
     "metadata": {},
     "output_type": "execute_result"
    }
   ],
   "source": [
    "len(ovItems), len(unItems)"
   ]
  },
  {
   "cell_type": "code",
   "execution_count": 715,
   "metadata": {
    "collapsed": false
   },
   "outputs": [
    {
     "name": "stdout",
     "output_type": "stream",
     "text": [
      "267 {3.5: [3.5, 3.9, 1.0], 1.0: [1.5, 1.9, 1.0], 2.0: [4.0, 3.4, 1.0], 3.0: [3.1666666666666665, 3.6999999999999997, 3.0], 2.5: [3.0, 3.6, 1.0]}\n",
      "276 {2.5: [2.5, 3.1, 3.0], 3.5: [3.0, 4.0, 2.0], 2.0: [3.5, 3.55, 2.0]}\n",
      "33171 {3.5: [2.0, 3.65, 2.0], 2.5: [4.0, 3.7, 1.0], 2.0: [4.0, 3.1, 1.0], 3.0: [2.1666666666666665, 3.1333333333333333, 3.0], 4.0: [3.0, 3.4, 1.0], 5.0: [5.0, 4.5, 1.0]}\n",
      "532 {0.5: [5.0, 3.2, 1.0], 3.5: [3.0, 3.3, 1.0], 3.0: [2.5, 3.0, 1.0], 4.0: [2.375, 3.5, 4.0]}\n",
      "565 {3.5: [3.25, 3.85, 2.0], 2.0: [3.0, 2.0, 1.0], 3.0: [5.0, 3.6, 1.0], 5.0: [2.5, 3.45, 2.0]}\n",
      "92938 {0.5: [2.1666666666666665, 2.6999999999999997, 3.0], 2.5: [3.0, 3.6, 1.0], 3.0: [4.0, 3.4, 1.0], 3.5: [3.5, 3.8, 1.0]}\n",
      "991 {2.5: [3.0, 2.6, 1.0], 4.5: [5.0, 4.5, 1.0], 3.0: [2.75, 2.85, 2.0], 4.0: [2.6666666666666665, 3.6666666666666665, 3.0], 3.5: [3.0, 3.55, 2.0]}\n"
     ]
    }
   ],
   "source": [
    "for item in ovItems[:10]:\n",
    "    nSets = 0\n",
    "    for rating, setRats in itemDist[item].iteritems():\n",
    "        nSets += setRats[2]\n",
    "    if nSets > 5:\n",
    "        print item, itemDist[item]"
   ]
  },
  {
   "cell_type": "code",
   "execution_count": 711,
   "metadata": {
    "collapsed": false
   },
   "outputs": [
    {
     "name": "stdout",
     "output_type": "stream",
     "text": [
      "2034 {1.5: [2.0, 2.5, 1.0], 2.5: [4.0, 3.3, 1.0], 2.0: [3.5, 2.8, 1.0], 3.0: [4.25, 3.4000000000000004, 2.0]}\n",
      "79463 {3.5: [4.0, 3.15, 2.0], 2.5: [4.0, 3.4, 1.0], 2.0: [3.0, 2.1, 1.0], 3.0: [2.5, 3.1, 1.0]}\n",
      "103299 {0.5: [3.5, 2.9, 1.0], 3.5: [4.5, 3.4, 1.0], 4.0: [5.0, 3.8, 1.0], 4.5: [4.0, 4.0, 1.0], 2.5: [3.5, 2.8, 1.0]}\n"
     ]
    }
   ],
   "source": [
    "for item in unItems[:10]:\n",
    "    nSets = 0\n",
    "    for rating, setRats in itemDist[item].iteritems():\n",
    "        nSets += setRats[2]\n",
    "    print item, itemDist[item]"
   ]
  },
  {
   "cell_type": "code",
   "execution_count": 707,
   "metadata": {
    "collapsed": false
   },
   "outputs": [
    {
     "data": {
      "text/plain": [
       "{0.5: [2.5, 2.6, 1.0],\n",
       " 1.0: [2.4444444444444446, 2.844444444444445, 9.0],\n",
       " 1.5: [3.25, 3.1750000000000003, 4.0],\n",
       " 2.0: [2.875, 3.0874999999999995, 8.0],\n",
       " 2.5: [3.2142857142857144, 3.228571428571428, 14.0],\n",
       " 3.0: [3.223684210526316, 3.392105263157894, 38.0],\n",
       " 3.5: [3.5526315789473686, 3.4473684210526314, 38.0],\n",
       " 4.0: [3.664383561643836, 3.679452054794519, 73.0],\n",
       " 4.5: [3.7906976744186047, 3.9790697674418603, 43.0],\n",
       " 5.0: [3.6973684210526314, 4.11578947368421, 38.0]}"
      ]
     },
     "execution_count": 707,
     "metadata": {},
     "output_type": "execute_result"
    }
   ],
   "source": [
    "itemDist[1]"
   ]
  },
  {
   "cell_type": "code",
   "execution_count": 721,
   "metadata": {
    "collapsed": true
   },
   "outputs": [],
   "source": [
    "overPredPSims = getPairwiseSims(uOvPredSetRatings)\n",
    "overPredEn = getSetsEntropy(uOvPredSetRatings)\n",
    "underPredPSims = getPairwiseSims(uUnderPredSetRatings)\n",
    "underPredEn = getSetsEntropy(uUnderPredSetRatings)\n",
    "neitherPredPSims = getPairwiseSims(uNeitherPredSetRatings)\n",
    "neitherPredEn = getSetsEntropy(uNeitherPredSetRatings)"
   ]
  },
  {
   "cell_type": "code",
   "execution_count": 724,
   "metadata": {
    "collapsed": false
   },
   "outputs": [
    {
     "data": {
      "text/plain": [
       "(0.85040048318953854, 0.91616024382288974, 0.81135155352229804)"
      ]
     },
     "execution_count": 724,
     "metadata": {},
     "output_type": "execute_result"
    }
   ],
   "source": [
    "np.average(overPredEn), np.average(underPredEn), np.average(neitherPredEn)"
   ]
  },
  {
   "cell_type": "code",
   "execution_count": 771,
   "metadata": {
    "collapsed": false
   },
   "outputs": [
    {
     "data": {
      "text/plain": [
       "(1.1799223862967847, 1.349815903867573, 1.084110488268722)"
      ]
     },
     "execution_count": 771,
     "metadata": {},
     "output_type": "execute_result"
    }
   ],
   "source": [
    "np.average(overPredPSims), np.average(underPredPSims), np.average(neitherPredPSims)"
   ]
  },
  {
   "cell_type": "code",
   "execution_count": 726,
   "metadata": {
    "collapsed": false
   },
   "outputs": [
    {
     "data": {
      "text/plain": [
       "Ttest_indResult(statistic=7.8930620180848745, pvalue=3.0661213794393644e-15)"
      ]
     },
     "execution_count": 726,
     "metadata": {},
     "output_type": "execute_result"
    }
   ],
   "source": [
    "stats.ttest_ind(overPredEn, neitherPredEn)"
   ]
  },
  {
   "cell_type": "code",
   "execution_count": 728,
   "metadata": {
    "collapsed": false
   },
   "outputs": [
    {
     "data": {
      "text/plain": [
       "Ttest_indResult(statistic=18.84139879952291, pvalue=1.2599599705852004e-78)"
      ]
     },
     "execution_count": 728,
     "metadata": {},
     "output_type": "execute_result"
    }
   ],
   "source": [
    "stats.ttest_ind(underPredEn, neitherPredEn)"
   ]
  },
  {
   "cell_type": "code",
   "execution_count": 729,
   "metadata": {
    "collapsed": true
   },
   "outputs": [],
   "source": [
    "def ratingDist(userSetRatings):\n",
    "    ratCount = {}\n",
    "    for user, setRatings in userSetRatings.iteritems():\n",
    "        for setRating in setRatings:\n",
    "            items = setRating[0]\n",
    "            rating = setRating[1]\n",
    "            for item in items:\n",
    "                itemRating = uiRatings[user][item]\n",
    "                if itemRating not in ratCount:\n",
    "                    ratCount[itemRating] = 0\n",
    "                ratCount[itemRating] += 1\n",
    "    return ratCount"
   ]
  },
  {
   "cell_type": "code",
   "execution_count": 731,
   "metadata": {
    "collapsed": true
   },
   "outputs": [],
   "source": [
    "ovPredRatDist = ratingDist(uOvPredSetRatings)"
   ]
  },
  {
   "cell_type": "code",
   "execution_count": 732,
   "metadata": {
    "collapsed": false
   },
   "outputs": [
    {
     "data": {
      "text/plain": [
       "{0.5: 548,\n",
       " 1.0: 573,\n",
       " 1.5: 525,\n",
       " 2.0: 1479,\n",
       " 2.5: 1716,\n",
       " 3.0: 4194,\n",
       " 3.5: 4480,\n",
       " 4.0: 6861,\n",
       " 4.5: 3009,\n",
       " 5.0: 2870}"
      ]
     },
     "execution_count": 732,
     "metadata": {},
     "output_type": "execute_result"
    }
   ],
   "source": [
    "ovPredRatDist"
   ]
  },
  {
   "cell_type": "code",
   "execution_count": 733,
   "metadata": {
    "collapsed": true
   },
   "outputs": [],
   "source": [
    "unPredRatDist = ratingDist(uUnderPredSetRatings)"
   ]
  },
  {
   "cell_type": "code",
   "execution_count": 734,
   "metadata": {
    "collapsed": false
   },
   "outputs": [
    {
     "data": {
      "text/plain": [
       "{0.5: 681,\n",
       " 1.0: 727,\n",
       " 1.5: 621,\n",
       " 2.0: 1449,\n",
       " 2.5: 1517,\n",
       " 3.0: 3374,\n",
       " 3.5: 3296,\n",
       " 4.0: 4457,\n",
       " 4.5: 1855,\n",
       " 5.0: 1693}"
      ]
     },
     "execution_count": 734,
     "metadata": {},
     "output_type": "execute_result"
    }
   ],
   "source": [
    "unPredRatDist"
   ]
  },
  {
   "cell_type": "code",
   "execution_count": 765,
   "metadata": {
    "collapsed": false
   },
   "outputs": [],
   "source": [
    "def getEntropySetsRatingGr8Pc(pcThresh = 0.5):\n",
    "    #users and its sets\n",
    "    filtUOvPredSets = {}\n",
    "    #no. of over pred sets by the user\n",
    "    nOvPredSets = 0\n",
    "    \n",
    "    filtUUnPredSets = {}\n",
    "    nUnPredSets = 0\n",
    "    filtUNeitherPredSets = {}\n",
    "    nNeitherPredSets = 0\n",
    "    for user, setRatings in uSetRatings.iteritems():\n",
    "        if uSetPc[user][0] > pcThresh:\n",
    "            filtUOvPredSets[user] = setRatings\n",
    "            nOvPredSets += len(uOvPredSetRatings[user])\n",
    "        if uSetPc[user][1] > pcThresh:\n",
    "            filtUUnPredSets[user] = setRatings\n",
    "            nUnPredSets += len(uUnderPredSetRatings[user])\n",
    "        if uSetPc[user][2] > pcThresh:\n",
    "            filtUNeitherPredSets[user] = setRatings\n",
    "            nNeitherPredSets += len(uNeitherPredSetRatings[user])\n",
    "    print 'overPredUsers: ', len(filtUOvPredSets), np.average(getSetsEntropy(filtUOvPredSets)), nOvPredSets \n",
    "    print 'underPredUsers: ', len(filtUUnPredSets), np.average(getSetsEntropy(filtUUnPredSets)), nUnPredSets\n",
    "    print 'neitherPredUsers: ', len(filtUNeitherPredSets), np.average(getSetsEntropy(filtUNeitherPredSets)), nNeitherPredSets"
   ]
  },
  {
   "cell_type": "code",
   "execution_count": 766,
   "metadata": {
    "collapsed": false
   },
   "outputs": [
    {
     "name": "stdout",
     "output_type": "stream",
     "text": [
      "overPredUsers:  450 0.848471284401 4749\n",
      "underPredUsers:  383 0.86891635851 3353\n",
      "neitherPredUsers:  846 0.832550177263 20326\n"
     ]
    }
   ],
   "source": [
    "getEntropySetsRatingGr8Pc(0.1)"
   ]
  },
  {
   "cell_type": "code",
   "execution_count": 767,
   "metadata": {
    "collapsed": false
   },
   "outputs": [
    {
     "name": "stdout",
     "output_type": "stream",
     "text": [
      "overPredUsers:  216 0.856286920903 3355\n",
      "underPredUsers:  150 0.890039024995 1948\n",
      "neitherPredUsers:  822 0.82965569467 20180\n"
     ]
    }
   ],
   "source": [
    "getEntropySetsRatingGr8Pc(0.25)"
   ]
  },
  {
   "cell_type": "code",
   "execution_count": 768,
   "metadata": {
    "collapsed": false
   },
   "outputs": [
    {
     "name": "stdout",
     "output_type": "stream",
     "text": [
      "overPredUsers:  141 0.86058522442 2553\n",
      "underPredUsers:  88 0.898882963379 1259\n",
      "neitherPredUsers:  792 0.827247251639 19916\n"
     ]
    }
   ],
   "source": [
    "getEntropySetsRatingGr8Pc(0.35)"
   ]
  },
  {
   "cell_type": "code",
   "execution_count": 769,
   "metadata": {
    "collapsed": false
   },
   "outputs": [
    {
     "name": "stdout",
     "output_type": "stream",
     "text": [
      "overPredUsers:  72 0.868387849754 1500\n",
      "underPredUsers:  30 0.911784053237 468\n",
      "neitherPredUsers:  691 0.817655391823 18392\n"
     ]
    }
   ],
   "source": [
    "getEntropySetsRatingGr8Pc(0.5)"
   ]
  },
  {
   "cell_type": "code",
   "execution_count": 770,
   "metadata": {
    "collapsed": false
   },
   "outputs": [
    {
     "name": "stdout",
     "output_type": "stream",
     "text": [
      "overPredUsers:  15 0.889444156532 386\n",
      "underPredUsers:  4 0.927935611902 53\n",
      "neitherPredUsers:  372 0.782004916019 10934\n"
     ]
    }
   ],
   "source": [
    "getEntropySetsRatingGr8Pc(0.75)"
   ]
  },
  {
   "cell_type": "code",
   "execution_count": null,
   "metadata": {
    "collapsed": true
   },
   "outputs": [],
   "source": []
  }
 ],
 "metadata": {
  "kernelspec": {
   "display_name": "Python 2",
   "language": "python",
   "name": "python2"
  },
  "language_info": {
   "codemirror_mode": {
    "name": "ipython",
    "version": 2
   },
   "file_extension": ".py",
   "mimetype": "text/x-python",
   "name": "python",
   "nbconvert_exporter": "python",
   "pygments_lexer": "ipython2",
   "version": "2.7.10"
  }
 },
 "nbformat": 4,
 "nbformat_minor": 0
}
